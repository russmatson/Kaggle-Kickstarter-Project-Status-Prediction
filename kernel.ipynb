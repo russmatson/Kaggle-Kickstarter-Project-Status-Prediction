{
  "cells": [
    {
      "metadata": {
        "_uuid": "3be2f0dad24b2154cb80c493aba7841e6c447ade"
      },
      "cell_type": "markdown",
      "source": "# Problem Statement\nTo predict if a kickstarter project will be successful or will fail before its actual deadline. Also identify the factors that determine the success rate of a project.\n\n\n# Solution Notebook\nThis notebook basically has 4 steps/ modules:\n    1. Data Understanding (EDA) and Preprocessing\n    2. Feature Engineering and heuristic feature selection\n    3. Model Building\n        3A. Logistic Regression with grid search\n        3B. XGBoost\n        3C. Random Forest\n    4. Feature importance\n    \nThe best accuracy obtained was 68.9% accuracy on Test Data from XGBoost"
    },
    {
      "metadata": {
        "_uuid": "88095ebec76619f69af5aa3f6fb43493b745e543"
      },
      "cell_type": "markdown",
      "source": "## Setting up the requires libraries and packages"
    },
    {
      "metadata": {
        "trusted": true,
        "_uuid": "ccd53887439ec5be5b7c5e03869463e08332af4f"
      },
      "cell_type": "code",
      "source": "# Libraries\nimport numpy as np\nimport pandas as pd\nimport os\nfrom datetime import datetime\nfrom sklearn.model_selection import train_test_split\nfrom sklearn.linear_model import LogisticRegression\nfrom sklearn import preprocessing\nfrom sklearn.ensemble import RandomForestClassifier\nfrom sklearn.metrics import accuracy_score\nfrom sklearn.metrics import confusion_matrix\nfrom sklearn.metrics import roc_auc_score\nfrom sklearn import preprocessing\nimport string\n#import itertools\n#from itertools import product",
      "execution_count": 1,
      "outputs": []
    },
    {
      "metadata": {
        "_uuid": "a5a9340428ee763c20d58fe025340e1486eb4383"
      },
      "cell_type": "markdown",
      "source": "## Importing a dataset"
    },
    {
      "metadata": {
        "scrolled": true,
        "trusted": true,
        "_uuid": "9042e9b10d782de3b1eec47778bc45b88443765a"
      },
      "cell_type": "code",
      "source": "# read in data\nkickstarters_2017 = pd.read_csv(\"../input/ks-projects-201801.csv\")\nkickstarters_2017.head()",
      "execution_count": 2,
      "outputs": [
        {
          "output_type": "execute_result",
          "execution_count": 2,
          "data": {
            "text/plain": "           ID      ...      usd_goal_real\n0  1000002330      ...            1533.95\n1  1000003930      ...           30000.00\n2  1000004038      ...           45000.00\n3  1000007540      ...            5000.00\n4  1000011046      ...           19500.00\n\n[5 rows x 15 columns]",
            "text/html": "<div>\n<style scoped>\n    .dataframe tbody tr th:only-of-type {\n        vertical-align: middle;\n    }\n\n    .dataframe tbody tr th {\n        vertical-align: top;\n    }\n\n    .dataframe thead th {\n        text-align: right;\n    }\n</style>\n<table border=\"1\" class=\"dataframe\">\n  <thead>\n    <tr style=\"text-align: right;\">\n      <th></th>\n      <th>ID</th>\n      <th>name</th>\n      <th>category</th>\n      <th>main_category</th>\n      <th>currency</th>\n      <th>deadline</th>\n      <th>goal</th>\n      <th>launched</th>\n      <th>pledged</th>\n      <th>state</th>\n      <th>backers</th>\n      <th>country</th>\n      <th>usd pledged</th>\n      <th>usd_pledged_real</th>\n      <th>usd_goal_real</th>\n    </tr>\n  </thead>\n  <tbody>\n    <tr>\n      <th>0</th>\n      <td>1000002330</td>\n      <td>The Songs of Adelaide &amp; Abullah</td>\n      <td>Poetry</td>\n      <td>Publishing</td>\n      <td>GBP</td>\n      <td>2015-10-09</td>\n      <td>1000.0</td>\n      <td>2015-08-11 12:12:28</td>\n      <td>0.0</td>\n      <td>failed</td>\n      <td>0</td>\n      <td>GB</td>\n      <td>0.0</td>\n      <td>0.0</td>\n      <td>1533.95</td>\n    </tr>\n    <tr>\n      <th>1</th>\n      <td>1000003930</td>\n      <td>Greeting From Earth: ZGAC Arts Capsule For ET</td>\n      <td>Narrative Film</td>\n      <td>Film &amp; Video</td>\n      <td>USD</td>\n      <td>2017-11-01</td>\n      <td>30000.0</td>\n      <td>2017-09-02 04:43:57</td>\n      <td>2421.0</td>\n      <td>failed</td>\n      <td>15</td>\n      <td>US</td>\n      <td>100.0</td>\n      <td>2421.0</td>\n      <td>30000.00</td>\n    </tr>\n    <tr>\n      <th>2</th>\n      <td>1000004038</td>\n      <td>Where is Hank?</td>\n      <td>Narrative Film</td>\n      <td>Film &amp; Video</td>\n      <td>USD</td>\n      <td>2013-02-26</td>\n      <td>45000.0</td>\n      <td>2013-01-12 00:20:50</td>\n      <td>220.0</td>\n      <td>failed</td>\n      <td>3</td>\n      <td>US</td>\n      <td>220.0</td>\n      <td>220.0</td>\n      <td>45000.00</td>\n    </tr>\n    <tr>\n      <th>3</th>\n      <td>1000007540</td>\n      <td>ToshiCapital Rekordz Needs Help to Complete Album</td>\n      <td>Music</td>\n      <td>Music</td>\n      <td>USD</td>\n      <td>2012-04-16</td>\n      <td>5000.0</td>\n      <td>2012-03-17 03:24:11</td>\n      <td>1.0</td>\n      <td>failed</td>\n      <td>1</td>\n      <td>US</td>\n      <td>1.0</td>\n      <td>1.0</td>\n      <td>5000.00</td>\n    </tr>\n    <tr>\n      <th>4</th>\n      <td>1000011046</td>\n      <td>Community Film Project: The Art of Neighborhoo...</td>\n      <td>Film &amp; Video</td>\n      <td>Film &amp; Video</td>\n      <td>USD</td>\n      <td>2015-08-29</td>\n      <td>19500.0</td>\n      <td>2015-07-04 08:35:03</td>\n      <td>1283.0</td>\n      <td>canceled</td>\n      <td>14</td>\n      <td>US</td>\n      <td>1283.0</td>\n      <td>1283.0</td>\n      <td>19500.00</td>\n    </tr>\n  </tbody>\n</table>\n</div>"
          },
          "metadata": {}
        }
      ]
    },
    {
      "metadata": {
        "_uuid": "8d277e06f443a117a9d95bdbd8334ae2a1b3146f"
      },
      "cell_type": "markdown",
      "source": "## Basic Tests and EDA on input data"
    },
    {
      "metadata": {
        "trusted": true,
        "_uuid": "c4d448315585243cb96da92b94252f00c09cf8fd"
      },
      "cell_type": "code",
      "source": "#printing all summary of the kickstarter data\n#this will give the dimensions of data set : (rows, columns)\nprint(kickstarters_2017.shape)\n#columns and data types\nprint(kickstarters_2017.info())\n#basic stats of columns\nprint(kickstarters_2017.describe())\n#number of unique values in all columns\nprint(kickstarters_2017.nunique())",
      "execution_count": 3,
      "outputs": [
        {
          "output_type": "stream",
          "text": "(378661, 15)\n<class 'pandas.core.frame.DataFrame'>\nRangeIndex: 378661 entries, 0 to 378660\nData columns (total 15 columns):\nID                  378661 non-null int64\nname                378657 non-null object\ncategory            378661 non-null object\nmain_category       378661 non-null object\ncurrency            378661 non-null object\ndeadline            378661 non-null object\ngoal                378661 non-null float64\nlaunched            378661 non-null object\npledged             378661 non-null float64\nstate               378661 non-null object\nbackers             378661 non-null int64\ncountry             378661 non-null object\nusd pledged         374864 non-null float64\nusd_pledged_real    378661 non-null float64\nusd_goal_real       378661 non-null float64\ndtypes: float64(5), int64(2), object(8)\nmemory usage: 43.3+ MB\nNone\n                 ID      ...        usd_goal_real\ncount  3.786610e+05      ...         3.786610e+05\nmean   1.074731e+09      ...         4.545440e+04\nstd    6.190862e+08      ...         1.152950e+06\nmin    5.971000e+03      ...         1.000000e-02\n25%    5.382635e+08      ...         2.000000e+03\n50%    1.075276e+09      ...         5.500000e+03\n75%    1.610149e+09      ...         1.550000e+04\nmax    2.147476e+09      ...         1.663614e+08\n\n[8 rows x 7 columns]\nID                  378661\nname                375764\ncategory               159\nmain_category           15\ncurrency                14\ndeadline              3164\ngoal                  8353\nlaunched            378089\npledged              62130\nstate                    6\nbackers               3963\ncountry                 23\nusd pledged          95455\nusd_pledged_real    106065\nusd_goal_real        50339\ndtype: int64\n",
          "name": "stdout"
        }
      ]
    },
    {
      "metadata": {
        "_uuid": "f4d64072828c950f732e85f18d7fc298d6963842"
      },
      "cell_type": "markdown",
      "source": "The above stats help us reaching the following conclusions:\n1. the data is at ID level (unique of ID=number of rows)\n2. The numerical data fields are: goal, pledged, backers, usd_pledged, usd_pledged_real,usd_goal_real"
    },
    {
      "metadata": {
        "_uuid": "d0e295c1922ebcd2d199011823adda5f24452214"
      },
      "cell_type": "markdown",
      "source": "#### Understanding Variables in the Dataset\n\nThe dataset has 15 variablesincluding ID. SInce ID is the level of the dataset, we can set it as the index of the ata later. Variables like name, currency, deadline, launched date and country as self explanatory. Explanations of some key variables are as follows:\n\nMain_Category: There are 15 main categories for the project. These main categories broadly classify projects based on topic and genre they belong to.\n\nCategory: Main Categories are further sub divided in categories to give more general idea of the project. For example, Main Category “Technology” has 15 categories like Gadgets, Web, Apps, Software etc. There are 159 total categories.\n\nGoal: This is the goal amount which the company need to raise to start its project. The goal amount is important variable for company as if it is too high, the project may fail to raise that amount of money and be unsuccessful. If it is too low, then it may reach its goal soon and backers may not be interested to pledge more.\n\nPledged: This is amount raised by the company through its backers. On Kickstarter, if total amount pledged is lower than goal, then the project is unsuccessful and the start-up company doesn’t receive any fund. If pledged amount is more than the goal, the company is considered successful. The variable “usd pledged” is amount of money raised in US dollars.\n\nNumber of Backers: These are number of people who have supported the project by pledging some amount."
    },
    {
      "metadata": {
        "trusted": true,
        "_uuid": "8b3c98d9942b42b4859bdcd4778386900feb5332"
      },
      "cell_type": "code",
      "source": "#Distribution of data across state\npercent_success = round(kickstarters_2017[\"state\"].value_counts() / len(kickstarters_2017[\"state\"]) * 100,2)\n\nprint(\"State Percent: \")\nprint(percent_success)",
      "execution_count": 4,
      "outputs": [
        {
          "output_type": "stream",
          "text": "State Percent: \nfailed        52.22\nsuccessful    35.38\ncanceled      10.24\nundefined      0.94\nlive           0.74\nsuspended      0.49\nName: state, dtype: float64\n",
          "name": "stdout"
        }
      ]
    },
    {
      "metadata": {
        "trusted": true,
        "_uuid": "847bb001f7c678933dbf9918aa07c456eb464f3a"
      },
      "cell_type": "code",
      "source": "#renaming column usd_pledged as there is no '_' in the actual dataset variable name\ncol_names_prev=list(kickstarters_2017)\ncol_names_new= ['ID',\n 'name',\n 'category',\n 'main_category',\n 'currency',\n 'deadline',\n 'goal',\n 'launched',\n 'pledged',\n 'state',\n 'backers',\n 'country',\n 'usd_pledged',\n 'usd_pledged_real',\n 'usd_goal_real']\nkickstarters_2017.columns= col_names_new",
      "execution_count": 5,
      "outputs": []
    },
    {
      "metadata": {
        "trusted": true,
        "_uuid": "8f1b390374c1cdd97917f12c65a103db24bf838d"
      },
      "cell_type": "code",
      "source": "#segregating the variables as categorical and constinuous\ncat_vars=[ 'category', 'main_category', 'currency','country']\ncont_vars=['goal', 'pledged', 'backers','usd_pledged','usd_pledged_real','usd_goal_real']",
      "execution_count": 6,
      "outputs": []
    },
    {
      "metadata": {
        "trusted": true,
        "_uuid": "7b789a30e3d2d37d7a82782afde60fa26ef1e5cd"
      },
      "cell_type": "code",
      "source": "#correlation of continuous variables\nkickstarters_2017[cont_vars].corr()",
      "execution_count": 7,
      "outputs": [
        {
          "output_type": "execute_result",
          "execution_count": 7,
          "data": {
            "text/plain": "                      goal      ...        usd_goal_real\ngoal              1.000000      ...             0.942692\npledged           0.007358      ...             0.005024\nbackers           0.004012      ...             0.004517\nusd_pledged       0.005534      ...             0.006172\nusd_pledged_real  0.005104      ...             0.005596\nusd_goal_real     0.942692      ...             1.000000\n\n[6 rows x 6 columns]",
            "text/html": "<div>\n<style scoped>\n    .dataframe tbody tr th:only-of-type {\n        vertical-align: middle;\n    }\n\n    .dataframe tbody tr th {\n        vertical-align: top;\n    }\n\n    .dataframe thead th {\n        text-align: right;\n    }\n</style>\n<table border=\"1\" class=\"dataframe\">\n  <thead>\n    <tr style=\"text-align: right;\">\n      <th></th>\n      <th>goal</th>\n      <th>pledged</th>\n      <th>backers</th>\n      <th>usd_pledged</th>\n      <th>usd_pledged_real</th>\n      <th>usd_goal_real</th>\n    </tr>\n  </thead>\n  <tbody>\n    <tr>\n      <th>goal</th>\n      <td>1.000000</td>\n      <td>0.007358</td>\n      <td>0.004012</td>\n      <td>0.005534</td>\n      <td>0.005104</td>\n      <td>0.942692</td>\n    </tr>\n    <tr>\n      <th>pledged</th>\n      <td>0.007358</td>\n      <td>1.000000</td>\n      <td>0.717079</td>\n      <td>0.857370</td>\n      <td>0.952843</td>\n      <td>0.005024</td>\n    </tr>\n    <tr>\n      <th>backers</th>\n      <td>0.004012</td>\n      <td>0.717079</td>\n      <td>1.000000</td>\n      <td>0.697426</td>\n      <td>0.752539</td>\n      <td>0.004517</td>\n    </tr>\n    <tr>\n      <th>usd_pledged</th>\n      <td>0.005534</td>\n      <td>0.857370</td>\n      <td>0.697426</td>\n      <td>1.000000</td>\n      <td>0.907743</td>\n      <td>0.006172</td>\n    </tr>\n    <tr>\n      <th>usd_pledged_real</th>\n      <td>0.005104</td>\n      <td>0.952843</td>\n      <td>0.752539</td>\n      <td>0.907743</td>\n      <td>1.000000</td>\n      <td>0.005596</td>\n    </tr>\n    <tr>\n      <th>usd_goal_real</th>\n      <td>0.942692</td>\n      <td>0.005024</td>\n      <td>0.004517</td>\n      <td>0.006172</td>\n      <td>0.005596</td>\n      <td>1.000000</td>\n    </tr>\n  </tbody>\n</table>\n</div>"
          },
          "metadata": {}
        }
      ]
    },
    {
      "metadata": {
        "trusted": true,
        "_uuid": "af49ce4663badd844da0839021a3ec6a8cfee0d6"
      },
      "cell_type": "code",
      "source": "#setting unique ID as index of the table\n#this is because the ID column will not be used in the algorithm. yet it is needed to identify the project\ndf_kick= kickstarters_2017.set_index('ID')",
      "execution_count": 8,
      "outputs": []
    },
    {
      "metadata": {
        "trusted": true,
        "_uuid": "fa5cb9212551027ac6bbe724b11c36c37352b334"
      },
      "cell_type": "code",
      "source": "# Filtering only for successful and failed projects\nkick_projects = df_kick[(df_kick['state'] == 'failed') | (df_kick['state'] == 'successful')]\n#converting 'successful' state to 1 and failed to 0\nkick_projects['state'] = (kick_projects['state'] =='successful').astype(int)",
      "execution_count": 9,
      "outputs": [
        {
          "output_type": "stream",
          "text": "/opt/conda/lib/python3.6/site-packages/ipykernel_launcher.py:4: SettingWithCopyWarning: \nA value is trying to be set on a copy of a slice from a DataFrame.\nTry using .loc[row_indexer,col_indexer] = value instead\n\nSee the caveats in the documentation: http://pandas.pydata.org/pandas-docs/stable/indexing.html#indexing-view-versus-copy\n  after removing the cwd from sys.path.\n",
          "name": "stderr"
        }
      ]
    },
    {
      "metadata": {
        "trusted": true,
        "_uuid": "e0cfc679097619e4515512ad7a49a4a9a8ebe947"
      },
      "cell_type": "code",
      "source": "#checking distribution of projects across various main categories\nkick_projects.groupby(['main_category','state']).size()\n#kick_projects.groupby(['category','state']).size()",
      "execution_count": 10,
      "outputs": [
        {
          "output_type": "execute_result",
          "execution_count": 10,
          "data": {
            "text/plain": "main_category  state\nArt            0        14131\n               1        11510\nComics         0         4036\n               1         5842\nCrafts         0         5703\n               1         2115\nDance          0         1235\n               1         2338\nDesign         0        14814\n               1        10550\nFashion        0        14182\n               1         5593\nFilm & Video   0        32904\n               1        23623\nFood           0        15969\n               1         6085\nGames          0        16003\n               1        12518\nJournalism     0         3137\n               1         1012\nMusic          0        21752\n               1        24197\nPhotography    0         6384\n               1         3305\nPublishing     0        23145\n               1        12300\nTechnology     0        20616\n               1         6434\nTheater        0         3708\n               1         6534\ndtype: int64"
          },
          "metadata": {}
        }
      ]
    },
    {
      "metadata": {
        "scrolled": true,
        "trusted": true,
        "_uuid": "eceeeb02ed0a0276279ca5f19434c36f20ec0176"
      },
      "cell_type": "code",
      "source": "#correlation of continuous variables with the dependent variable\nkick_projects[['goal', 'pledged', 'backers','usd_pledged','usd_pledged_real','usd_goal_real','state']].corr()",
      "execution_count": 11,
      "outputs": [
        {
          "output_type": "execute_result",
          "execution_count": 11,
          "data": {
            "text/plain": "                      goal   pledged    ...     usd_goal_real     state\ngoal              1.000000  0.007965    ...          0.952614 -0.025099\npledged           0.007965  1.000000    ...          0.005722  0.109507\nbackers           0.004794  0.717316    ...          0.005208  0.125790\nusd_pledged       0.006416  0.857966    ...          0.006965  0.095658\nusd_pledged_real  0.005955  0.953571    ...          0.006354  0.108298\nusd_goal_real     0.952614  0.005722    ...          1.000000 -0.023735\nstate            -0.025099  0.109507    ...         -0.023735  1.000000\n\n[7 rows x 7 columns]",
            "text/html": "<div>\n<style scoped>\n    .dataframe tbody tr th:only-of-type {\n        vertical-align: middle;\n    }\n\n    .dataframe tbody tr th {\n        vertical-align: top;\n    }\n\n    .dataframe thead th {\n        text-align: right;\n    }\n</style>\n<table border=\"1\" class=\"dataframe\">\n  <thead>\n    <tr style=\"text-align: right;\">\n      <th></th>\n      <th>goal</th>\n      <th>pledged</th>\n      <th>backers</th>\n      <th>usd_pledged</th>\n      <th>usd_pledged_real</th>\n      <th>usd_goal_real</th>\n      <th>state</th>\n    </tr>\n  </thead>\n  <tbody>\n    <tr>\n      <th>goal</th>\n      <td>1.000000</td>\n      <td>0.007965</td>\n      <td>0.004794</td>\n      <td>0.006416</td>\n      <td>0.005955</td>\n      <td>0.952614</td>\n      <td>-0.025099</td>\n    </tr>\n    <tr>\n      <th>pledged</th>\n      <td>0.007965</td>\n      <td>1.000000</td>\n      <td>0.717316</td>\n      <td>0.857966</td>\n      <td>0.953571</td>\n      <td>0.005722</td>\n      <td>0.109507</td>\n    </tr>\n    <tr>\n      <th>backers</th>\n      <td>0.004794</td>\n      <td>0.717316</td>\n      <td>1.000000</td>\n      <td>0.697493</td>\n      <td>0.752291</td>\n      <td>0.005208</td>\n      <td>0.125790</td>\n    </tr>\n    <tr>\n      <th>usd_pledged</th>\n      <td>0.006416</td>\n      <td>0.857966</td>\n      <td>0.697493</td>\n      <td>1.000000</td>\n      <td>0.907713</td>\n      <td>0.006965</td>\n      <td>0.095658</td>\n    </tr>\n    <tr>\n      <th>usd_pledged_real</th>\n      <td>0.005955</td>\n      <td>0.953571</td>\n      <td>0.752291</td>\n      <td>0.907713</td>\n      <td>1.000000</td>\n      <td>0.006354</td>\n      <td>0.108298</td>\n    </tr>\n    <tr>\n      <th>usd_goal_real</th>\n      <td>0.952614</td>\n      <td>0.005722</td>\n      <td>0.005208</td>\n      <td>0.006965</td>\n      <td>0.006354</td>\n      <td>1.000000</td>\n      <td>-0.023735</td>\n    </tr>\n    <tr>\n      <th>state</th>\n      <td>-0.025099</td>\n      <td>0.109507</td>\n      <td>0.125790</td>\n      <td>0.095658</td>\n      <td>0.108298</td>\n      <td>-0.023735</td>\n      <td>1.000000</td>\n    </tr>\n  </tbody>\n</table>\n</div>"
          },
          "metadata": {}
        }
      ]
    },
    {
      "metadata": {
        "_uuid": "894d8083a1527cf5b43dc4e0dedfc0150f4ef55c"
      },
      "cell_type": "markdown",
      "source": "## Feature Engineering"
    },
    {
      "metadata": {
        "trusted": true,
        "_uuid": "51cc44af7296d68ce3cc012d280d228d6e52e12f"
      },
      "cell_type": "code",
      "source": "#creating derived metrics/ features\n\n#converting the date columns from string to date format\n#will use it to derive the duration of the project\nkick_projects['launched_date'] = pd.to_datetime(kick_projects['launched'], format='%Y-%m-%d %H:%M:%S')\nkick_projects['deadline_date'] = pd.to_datetime(kick_projects['deadline'], format='%Y-%m-%d %H:%M:%S')",
      "execution_count": 12,
      "outputs": [
        {
          "output_type": "stream",
          "text": "/opt/conda/lib/python3.6/site-packages/ipykernel_launcher.py:5: SettingWithCopyWarning: \nA value is trying to be set on a copy of a slice from a DataFrame.\nTry using .loc[row_indexer,col_indexer] = value instead\n\nSee the caveats in the documentation: http://pandas.pydata.org/pandas-docs/stable/indexing.html#indexing-view-versus-copy\n  \"\"\"\n/opt/conda/lib/python3.6/site-packages/ipykernel_launcher.py:6: SettingWithCopyWarning: \nA value is trying to be set on a copy of a slice from a DataFrame.\nTry using .loc[row_indexer,col_indexer] = value instead\n\nSee the caveats in the documentation: http://pandas.pydata.org/pandas-docs/stable/indexing.html#indexing-view-versus-copy\n  \n",
          "name": "stderr"
        }
      ]
    },
    {
      "metadata": {
        "trusted": true,
        "_uuid": "3bf27a43462e2b1bdb4e4e3f3d48da088f53b763"
      },
      "cell_type": "code",
      "source": "kick_projects= kick_projects.sort_values('launched_date',ascending=True)",
      "execution_count": 13,
      "outputs": []
    },
    {
      "metadata": {
        "trusted": true,
        "_uuid": "106abd8d6e2fda9bff7cf5d8ed1ee28f1f833362"
      },
      "cell_type": "code",
      "source": "kick_projects",
      "execution_count": 14,
      "outputs": [
        {
          "output_type": "execute_result",
          "execution_count": 14,
          "data": {
            "text/plain": "                                                         name      ...      deadline_date\nID                                                                 ...                   \n1860890148  Grace Jones Does Not Give A F$#% T-Shirt (limi...      ...         2009-05-31\n709707365                      CRYSTAL ANTLERS UNTITLED MOVIE      ...         2009-07-20\n1703704063                                drawing for dollars      ...         2009-05-03\n727286                           Offline Wikipedia iPhone app      ...         2009-07-14\n1622952265                                         Pantshirts      ...         2009-05-26\n2089078683                            New York Makes a Book!!      ...         2009-05-16\n830477146                      Web Site for Short Horror Film      ...         2009-05-29\n266044220                      Help me write my second novel.      ...         2009-05-29\n813230527   Sponsor Dereck Blackburn (Lostwars) Artist in ...      ...         2009-05-16\n469734648                                    kicey to iceland      ...         2009-06-17\n515267366                                  Crossword Puzzles!      ...         2009-06-30\n1167151653                        Smogr Alert Field Recording      ...         2009-07-04\n177921463                          Icons for your iPhone apps      ...         2009-06-15\n1099226462          Logical Guess Pictures' 2nd Horror Movie!      ...         2009-06-06\n2147219671  You Are Among Friends: a book for the little s...      ...         2009-07-01\n1147015301  \"All We Had\" Gets Into Cannes -- $10 or More G...      ...         2009-05-20\n1304906577         Accidental to Edinburgh - PHASE 1: AIRFARE      ...         2009-06-05\n1801448924  Accidental to Edinburgh - PHASE 1: REBUILDING ...      ...         2009-07-15\n901991585                                     Produce My Play      ...         2009-06-01\n1578671837             Support casting my sculpture in bronze      ...         2009-05-31\n405307432   Electronola - An electronic gumbo of New Orlea...      ...         2009-06-05\n857679098                                   Up North Cookbook      ...         2009-07-01\n2096107260                                As The Dust Settles      ...         2009-06-02\n1829288236  A Thousand Shots Photo Project (Creative Commons)      ...         2009-06-02\n1100844465                                       daily digest      ...         2009-06-01\n1316334968                             Drive A Faster Car 2.0      ...         2009-06-04\n772300929                           \"LostLES\" at Tiny's Giant      ...         2009-06-06\n585544140   Unbunny's \"Black Strawberries\" Limited-Edition LP      ...         2009-07-06\n748946786                                    Dollar Van Demos      ...         2009-06-01\n1753686817  Help Me Open a Publishing House for Young Authors      ...         2009-05-29\n...                                                       ...      ...                ...\n224677231                   CASH ONLY- Live Show Double Album      ...         2018-01-01\n1609174070                        Art Project: For Our Oceans      ...         2017-12-29\n137829433                                 A Tribute to Vargas      ...         2018-01-01\n503265734                                    Wolf Like Me 2.0      ...         2017-12-24\n1526774026                           New Space-Science Theory      ...         2017-12-28\n1498748922                                         Tabler art      ...         2017-12-31\n1343256522   Avie's Stories - Queer Friendly Children's Comic      ...         2018-01-01\n2083625005   Sailor Moon Sailor Senshi Enamel Pin Kickstarter      ...         2017-12-31\n1958869690                                         BGO Mobile      ...         2017-12-30\n2134338514            Gemini Twilight - Issue #1 (Next Pages)      ...         2017-12-23\n1711208257                                 Charlie Short Film      ...         2018-01-02\n643393067                                  Cultural Learnings      ...         2018-01-01\n1023854765  Longlasting, Durable, Wood Toys, Games, Furnit...      ...         2017-12-28\n1451445493                                             Vellum      ...         2017-12-23\n872097237                                 School Cookie Sale!      ...         2017-12-28\n1918100775                          Ghost in a Jar Enamel Pin      ...         2018-01-01\n1705137357          Center Touching Center - A Book of Poetry      ...         2017-12-28\n692238254         Twisted Anchor: A limited two week project.      ...         2018-01-02\n1100181726                                    Savage in Limbo      ...         2018-01-01\n1924831776                                            No Fix?      ...         2018-01-01\n201146560       No Label In Home Studio - The Future of Music      ...         2017-12-31\n400535254                        Aaron Turner Comfort Project      ...         2017-12-27\n1543817398  'Heruls from Skandia to Askatagkas: The myster...      ...         2018-01-01\n721805222   The Dumbest Thing In Your Mailbox - Part 5.5 -...      ...         2017-12-29\n1048845117                             Super Fun Awesome Time      ...         2017-12-24\n749399445                                Propeller Spring 2.0      ...         2017-12-26\n1223058036   The Cowboy and The Spaceman: Android Collective+      ...         2017-12-31\n1411606124                               The CHAMPS Are Here!      ...         2017-12-31\n156799983                                      Kill Them All!      ...         2017-12-30\n801423615                       Collaboration with Snoop Dogg      ...         2018-01-01\n\n[331675 rows x 16 columns]",
            "text/html": "<div>\n<style scoped>\n    .dataframe tbody tr th:only-of-type {\n        vertical-align: middle;\n    }\n\n    .dataframe tbody tr th {\n        vertical-align: top;\n    }\n\n    .dataframe thead th {\n        text-align: right;\n    }\n</style>\n<table border=\"1\" class=\"dataframe\">\n  <thead>\n    <tr style=\"text-align: right;\">\n      <th></th>\n      <th>name</th>\n      <th>category</th>\n      <th>main_category</th>\n      <th>currency</th>\n      <th>deadline</th>\n      <th>goal</th>\n      <th>launched</th>\n      <th>pledged</th>\n      <th>state</th>\n      <th>backers</th>\n      <th>country</th>\n      <th>usd_pledged</th>\n      <th>usd_pledged_real</th>\n      <th>usd_goal_real</th>\n      <th>launched_date</th>\n      <th>deadline_date</th>\n    </tr>\n    <tr>\n      <th>ID</th>\n      <th></th>\n      <th></th>\n      <th></th>\n      <th></th>\n      <th></th>\n      <th></th>\n      <th></th>\n      <th></th>\n      <th></th>\n      <th></th>\n      <th></th>\n      <th></th>\n      <th></th>\n      <th></th>\n      <th></th>\n      <th></th>\n    </tr>\n  </thead>\n  <tbody>\n    <tr>\n      <th>1860890148</th>\n      <td>Grace Jones Does Not Give A F$#% T-Shirt (limi...</td>\n      <td>Fashion</td>\n      <td>Fashion</td>\n      <td>USD</td>\n      <td>2009-05-31</td>\n      <td>1000.0</td>\n      <td>2009-04-21 21:02:48</td>\n      <td>625.00</td>\n      <td>0</td>\n      <td>30</td>\n      <td>US</td>\n      <td>625.00</td>\n      <td>625.00</td>\n      <td>1000.00</td>\n      <td>2009-04-21 21:02:48</td>\n      <td>2009-05-31</td>\n    </tr>\n    <tr>\n      <th>709707365</th>\n      <td>CRYSTAL ANTLERS UNTITLED MOVIE</td>\n      <td>Shorts</td>\n      <td>Film &amp; Video</td>\n      <td>USD</td>\n      <td>2009-07-20</td>\n      <td>80000.0</td>\n      <td>2009-04-23 00:07:53</td>\n      <td>22.00</td>\n      <td>0</td>\n      <td>3</td>\n      <td>US</td>\n      <td>22.00</td>\n      <td>22.00</td>\n      <td>80000.00</td>\n      <td>2009-04-23 00:07:53</td>\n      <td>2009-07-20</td>\n    </tr>\n    <tr>\n      <th>1703704063</th>\n      <td>drawing for dollars</td>\n      <td>Illustration</td>\n      <td>Art</td>\n      <td>USD</td>\n      <td>2009-05-03</td>\n      <td>20.0</td>\n      <td>2009-04-24 21:52:03</td>\n      <td>35.00</td>\n      <td>1</td>\n      <td>3</td>\n      <td>US</td>\n      <td>35.00</td>\n      <td>35.00</td>\n      <td>20.00</td>\n      <td>2009-04-24 21:52:03</td>\n      <td>2009-05-03</td>\n    </tr>\n    <tr>\n      <th>727286</th>\n      <td>Offline Wikipedia iPhone app</td>\n      <td>Software</td>\n      <td>Technology</td>\n      <td>USD</td>\n      <td>2009-07-14</td>\n      <td>99.0</td>\n      <td>2009-04-25 17:36:21</td>\n      <td>145.00</td>\n      <td>1</td>\n      <td>25</td>\n      <td>US</td>\n      <td>145.00</td>\n      <td>145.00</td>\n      <td>99.00</td>\n      <td>2009-04-25 17:36:21</td>\n      <td>2009-07-14</td>\n    </tr>\n    <tr>\n      <th>1622952265</th>\n      <td>Pantshirts</td>\n      <td>Fashion</td>\n      <td>Fashion</td>\n      <td>USD</td>\n      <td>2009-05-26</td>\n      <td>1900.0</td>\n      <td>2009-04-27 14:10:39</td>\n      <td>387.00</td>\n      <td>0</td>\n      <td>10</td>\n      <td>US</td>\n      <td>387.00</td>\n      <td>387.00</td>\n      <td>1900.00</td>\n      <td>2009-04-27 14:10:39</td>\n      <td>2009-05-26</td>\n    </tr>\n    <tr>\n      <th>2089078683</th>\n      <td>New York Makes a Book!!</td>\n      <td>Journalism</td>\n      <td>Journalism</td>\n      <td>USD</td>\n      <td>2009-05-16</td>\n      <td>3000.0</td>\n      <td>2009-04-28 13:55:41</td>\n      <td>3329.00</td>\n      <td>1</td>\n      <td>110</td>\n      <td>US</td>\n      <td>3329.00</td>\n      <td>3329.00</td>\n      <td>3000.00</td>\n      <td>2009-04-28 13:55:41</td>\n      <td>2009-05-16</td>\n    </tr>\n    <tr>\n      <th>830477146</th>\n      <td>Web Site for Short Horror Film</td>\n      <td>Shorts</td>\n      <td>Film &amp; Video</td>\n      <td>USD</td>\n      <td>2009-05-29</td>\n      <td>200.0</td>\n      <td>2009-04-29 02:04:21</td>\n      <td>41.00</td>\n      <td>0</td>\n      <td>3</td>\n      <td>US</td>\n      <td>41.00</td>\n      <td>41.00</td>\n      <td>200.00</td>\n      <td>2009-04-29 02:04:21</td>\n      <td>2009-05-29</td>\n    </tr>\n    <tr>\n      <th>266044220</th>\n      <td>Help me write my second novel.</td>\n      <td>Fiction</td>\n      <td>Publishing</td>\n      <td>USD</td>\n      <td>2009-05-29</td>\n      <td>500.0</td>\n      <td>2009-04-29 02:58:50</td>\n      <td>563.00</td>\n      <td>1</td>\n      <td>18</td>\n      <td>US</td>\n      <td>563.00</td>\n      <td>563.00</td>\n      <td>500.00</td>\n      <td>2009-04-29 02:58:50</td>\n      <td>2009-05-29</td>\n    </tr>\n    <tr>\n      <th>813230527</th>\n      <td>Sponsor Dereck Blackburn (Lostwars) Artist in ...</td>\n      <td>Rock</td>\n      <td>Music</td>\n      <td>USD</td>\n      <td>2009-05-16</td>\n      <td>300.0</td>\n      <td>2009-04-29 05:26:32</td>\n      <td>15.00</td>\n      <td>0</td>\n      <td>2</td>\n      <td>US</td>\n      <td>15.00</td>\n      <td>15.00</td>\n      <td>300.00</td>\n      <td>2009-04-29 05:26:32</td>\n      <td>2009-05-16</td>\n    </tr>\n    <tr>\n      <th>469734648</th>\n      <td>kicey to iceland</td>\n      <td>Photography</td>\n      <td>Photography</td>\n      <td>USD</td>\n      <td>2009-06-17</td>\n      <td>350.0</td>\n      <td>2009-04-29 06:43:44</td>\n      <td>1630.00</td>\n      <td>1</td>\n      <td>31</td>\n      <td>US</td>\n      <td>1630.00</td>\n      <td>1630.00</td>\n      <td>350.00</td>\n      <td>2009-04-29 06:43:44</td>\n      <td>2009-06-17</td>\n    </tr>\n    <tr>\n      <th>515267366</th>\n      <td>Crossword Puzzles!</td>\n      <td>Puzzles</td>\n      <td>Games</td>\n      <td>USD</td>\n      <td>2009-06-30</td>\n      <td>1500.0</td>\n      <td>2009-04-29 13:52:03</td>\n      <td>2265.00</td>\n      <td>1</td>\n      <td>163</td>\n      <td>US</td>\n      <td>2265.00</td>\n      <td>2265.00</td>\n      <td>1500.00</td>\n      <td>2009-04-29 13:52:03</td>\n      <td>2009-06-30</td>\n    </tr>\n    <tr>\n      <th>1167151653</th>\n      <td>Smogr Alert Field Recording</td>\n      <td>Graphic Design</td>\n      <td>Design</td>\n      <td>USD</td>\n      <td>2009-07-04</td>\n      <td>640.0</td>\n      <td>2009-04-29 22:08:13</td>\n      <td>41.00</td>\n      <td>0</td>\n      <td>3</td>\n      <td>US</td>\n      <td>41.00</td>\n      <td>41.00</td>\n      <td>640.00</td>\n      <td>2009-04-29 22:08:13</td>\n      <td>2009-07-04</td>\n    </tr>\n    <tr>\n      <th>177921463</th>\n      <td>Icons for your iPhone apps</td>\n      <td>Software</td>\n      <td>Technology</td>\n      <td>USD</td>\n      <td>2009-06-15</td>\n      <td>500.0</td>\n      <td>2009-04-29 23:11:15</td>\n      <td>1820.00</td>\n      <td>1</td>\n      <td>98</td>\n      <td>US</td>\n      <td>1820.00</td>\n      <td>1820.00</td>\n      <td>500.00</td>\n      <td>2009-04-29 23:11:15</td>\n      <td>2009-06-15</td>\n    </tr>\n    <tr>\n      <th>1099226462</th>\n      <td>Logical Guess Pictures' 2nd Horror Movie!</td>\n      <td>Film &amp; Video</td>\n      <td>Film &amp; Video</td>\n      <td>USD</td>\n      <td>2009-06-06</td>\n      <td>500.0</td>\n      <td>2009-04-30 01:32:55</td>\n      <td>501.66</td>\n      <td>1</td>\n      <td>22</td>\n      <td>US</td>\n      <td>501.66</td>\n      <td>501.66</td>\n      <td>500.00</td>\n      <td>2009-04-30 01:32:55</td>\n      <td>2009-06-06</td>\n    </tr>\n    <tr>\n      <th>2147219671</th>\n      <td>You Are Among Friends: a book for the little s...</td>\n      <td>Publishing</td>\n      <td>Publishing</td>\n      <td>USD</td>\n      <td>2009-07-01</td>\n      <td>350.0</td>\n      <td>2009-04-30 07:14:06</td>\n      <td>750.00</td>\n      <td>1</td>\n      <td>41</td>\n      <td>US</td>\n      <td>750.00</td>\n      <td>750.00</td>\n      <td>350.00</td>\n      <td>2009-04-30 07:14:06</td>\n      <td>2009-07-01</td>\n    </tr>\n    <tr>\n      <th>1147015301</th>\n      <td>\"All We Had\" Gets Into Cannes -- $10 or More G...</td>\n      <td>Documentary</td>\n      <td>Film &amp; Video</td>\n      <td>USD</td>\n      <td>2009-05-20</td>\n      <td>300.0</td>\n      <td>2009-04-30 22:10:30</td>\n      <td>40.00</td>\n      <td>0</td>\n      <td>4</td>\n      <td>US</td>\n      <td>40.00</td>\n      <td>40.00</td>\n      <td>300.00</td>\n      <td>2009-04-30 22:10:30</td>\n      <td>2009-05-20</td>\n    </tr>\n    <tr>\n      <th>1304906577</th>\n      <td>Accidental to Edinburgh - PHASE 1: AIRFARE</td>\n      <td>Theater</td>\n      <td>Theater</td>\n      <td>USD</td>\n      <td>2009-06-05</td>\n      <td>6000.0</td>\n      <td>2009-04-30 22:22:43</td>\n      <td>6575.00</td>\n      <td>1</td>\n      <td>24</td>\n      <td>US</td>\n      <td>6575.00</td>\n      <td>6575.00</td>\n      <td>6000.00</td>\n      <td>2009-04-30 22:22:43</td>\n      <td>2009-06-05</td>\n    </tr>\n    <tr>\n      <th>1801448924</th>\n      <td>Accidental to Edinburgh - PHASE 1: REBUILDING ...</td>\n      <td>Theater</td>\n      <td>Theater</td>\n      <td>USD</td>\n      <td>2009-07-15</td>\n      <td>10000.0</td>\n      <td>2009-04-30 22:23:22</td>\n      <td>10145.00</td>\n      <td>1</td>\n      <td>27</td>\n      <td>US</td>\n      <td>10145.00</td>\n      <td>10145.00</td>\n      <td>10000.00</td>\n      <td>2009-04-30 22:23:22</td>\n      <td>2009-07-15</td>\n    </tr>\n    <tr>\n      <th>901991585</th>\n      <td>Produce My Play</td>\n      <td>Theater</td>\n      <td>Theater</td>\n      <td>USD</td>\n      <td>2009-06-01</td>\n      <td>500.0</td>\n      <td>2009-05-01 05:06:19</td>\n      <td>575.00</td>\n      <td>1</td>\n      <td>21</td>\n      <td>US</td>\n      <td>575.00</td>\n      <td>575.00</td>\n      <td>500.00</td>\n      <td>2009-05-01 05:06:19</td>\n      <td>2009-06-01</td>\n    </tr>\n    <tr>\n      <th>1578671837</th>\n      <td>Support casting my sculpture in bronze</td>\n      <td>Sculpture</td>\n      <td>Art</td>\n      <td>USD</td>\n      <td>2009-05-31</td>\n      <td>2000.0</td>\n      <td>2009-05-01 14:22:21</td>\n      <td>25.00</td>\n      <td>0</td>\n      <td>1</td>\n      <td>US</td>\n      <td>25.00</td>\n      <td>25.00</td>\n      <td>2000.00</td>\n      <td>2009-05-01 14:22:21</td>\n      <td>2009-05-31</td>\n    </tr>\n    <tr>\n      <th>405307432</th>\n      <td>Electronola - An electronic gumbo of New Orlea...</td>\n      <td>Electronic Music</td>\n      <td>Music</td>\n      <td>USD</td>\n      <td>2009-06-05</td>\n      <td>4000.0</td>\n      <td>2009-05-01 17:44:25</td>\n      <td>4100.60</td>\n      <td>1</td>\n      <td>114</td>\n      <td>US</td>\n      <td>4100.60</td>\n      <td>4100.60</td>\n      <td>4000.00</td>\n      <td>2009-05-01 17:44:25</td>\n      <td>2009-06-05</td>\n    </tr>\n    <tr>\n      <th>857679098</th>\n      <td>Up North Cookbook</td>\n      <td>Nonfiction</td>\n      <td>Publishing</td>\n      <td>USD</td>\n      <td>2009-07-01</td>\n      <td>500.0</td>\n      <td>2009-05-01 17:51:24</td>\n      <td>760.00</td>\n      <td>1</td>\n      <td>29</td>\n      <td>US</td>\n      <td>760.00</td>\n      <td>760.00</td>\n      <td>500.00</td>\n      <td>2009-05-01 17:51:24</td>\n      <td>2009-07-01</td>\n    </tr>\n    <tr>\n      <th>2096107260</th>\n      <td>As The Dust Settles</td>\n      <td>Film &amp; Video</td>\n      <td>Film &amp; Video</td>\n      <td>USD</td>\n      <td>2009-06-02</td>\n      <td>200.0</td>\n      <td>2009-05-03 08:37:56</td>\n      <td>202.00</td>\n      <td>1</td>\n      <td>7</td>\n      <td>US</td>\n      <td>202.00</td>\n      <td>202.00</td>\n      <td>200.00</td>\n      <td>2009-05-03 08:37:56</td>\n      <td>2009-06-02</td>\n    </tr>\n    <tr>\n      <th>1829288236</th>\n      <td>A Thousand Shots Photo Project (Creative Commons)</td>\n      <td>Photography</td>\n      <td>Photography</td>\n      <td>USD</td>\n      <td>2009-06-02</td>\n      <td>649.0</td>\n      <td>2009-05-03 22:15:51</td>\n      <td>92.00</td>\n      <td>0</td>\n      <td>14</td>\n      <td>US</td>\n      <td>92.00</td>\n      <td>92.00</td>\n      <td>649.00</td>\n      <td>2009-05-03 22:15:51</td>\n      <td>2009-06-02</td>\n    </tr>\n    <tr>\n      <th>1100844465</th>\n      <td>daily digest</td>\n      <td>Documentary</td>\n      <td>Film &amp; Video</td>\n      <td>USD</td>\n      <td>2009-06-01</td>\n      <td>700.0</td>\n      <td>2009-05-04 21:14:28</td>\n      <td>700.00</td>\n      <td>1</td>\n      <td>14</td>\n      <td>US</td>\n      <td>700.00</td>\n      <td>700.00</td>\n      <td>700.00</td>\n      <td>2009-05-04 21:14:28</td>\n      <td>2009-06-01</td>\n    </tr>\n    <tr>\n      <th>1316334968</th>\n      <td>Drive A Faster Car 2.0</td>\n      <td>Nonfiction</td>\n      <td>Publishing</td>\n      <td>USD</td>\n      <td>2009-06-04</td>\n      <td>1000.0</td>\n      <td>2009-05-04 22:51:31</td>\n      <td>1367.00</td>\n      <td>1</td>\n      <td>32</td>\n      <td>US</td>\n      <td>1367.00</td>\n      <td>1367.00</td>\n      <td>1000.00</td>\n      <td>2009-05-04 22:51:31</td>\n      <td>2009-06-04</td>\n    </tr>\n    <tr>\n      <th>772300929</th>\n      <td>\"LostLES\" at Tiny's Giant</td>\n      <td>Painting</td>\n      <td>Art</td>\n      <td>USD</td>\n      <td>2009-06-06</td>\n      <td>5000.0</td>\n      <td>2009-05-05 01:48:21</td>\n      <td>5045.00</td>\n      <td>1</td>\n      <td>44</td>\n      <td>US</td>\n      <td>5045.00</td>\n      <td>5045.00</td>\n      <td>5000.00</td>\n      <td>2009-05-05 01:48:21</td>\n      <td>2009-06-06</td>\n    </tr>\n    <tr>\n      <th>585544140</th>\n      <td>Unbunny's \"Black Strawberries\" Limited-Edition LP</td>\n      <td>Indie Rock</td>\n      <td>Music</td>\n      <td>USD</td>\n      <td>2009-07-06</td>\n      <td>3500.0</td>\n      <td>2009-05-05 07:03:37</td>\n      <td>3690.00</td>\n      <td>1</td>\n      <td>132</td>\n      <td>US</td>\n      <td>3690.00</td>\n      <td>3690.00</td>\n      <td>3500.00</td>\n      <td>2009-05-05 07:03:37</td>\n      <td>2009-07-06</td>\n    </tr>\n    <tr>\n      <th>748946786</th>\n      <td>Dollar Van Demos</td>\n      <td>Documentary</td>\n      <td>Film &amp; Video</td>\n      <td>USD</td>\n      <td>2009-06-01</td>\n      <td>2000.0</td>\n      <td>2009-05-06 03:50:19</td>\n      <td>100.00</td>\n      <td>0</td>\n      <td>1</td>\n      <td>US</td>\n      <td>100.00</td>\n      <td>100.00</td>\n      <td>2000.00</td>\n      <td>2009-05-06 03:50:19</td>\n      <td>2009-06-01</td>\n    </tr>\n    <tr>\n      <th>1753686817</th>\n      <td>Help Me Open a Publishing House for Young Authors</td>\n      <td>Publishing</td>\n      <td>Publishing</td>\n      <td>USD</td>\n      <td>2009-05-29</td>\n      <td>3000.0</td>\n      <td>2009-05-06 15:27:19</td>\n      <td>100.00</td>\n      <td>0</td>\n      <td>1</td>\n      <td>US</td>\n      <td>100.00</td>\n      <td>100.00</td>\n      <td>3000.00</td>\n      <td>2009-05-06 15:27:19</td>\n      <td>2009-05-29</td>\n    </tr>\n    <tr>\n      <th>...</th>\n      <td>...</td>\n      <td>...</td>\n      <td>...</td>\n      <td>...</td>\n      <td>...</td>\n      <td>...</td>\n      <td>...</td>\n      <td>...</td>\n      <td>...</td>\n      <td>...</td>\n      <td>...</td>\n      <td>...</td>\n      <td>...</td>\n      <td>...</td>\n      <td>...</td>\n      <td>...</td>\n    </tr>\n    <tr>\n      <th>224677231</th>\n      <td>CASH ONLY- Live Show Double Album</td>\n      <td>Country &amp; Folk</td>\n      <td>Music</td>\n      <td>USD</td>\n      <td>2018-01-01</td>\n      <td>1650.0</td>\n      <td>2017-12-14 15:08:11</td>\n      <td>810.00</td>\n      <td>0</td>\n      <td>20</td>\n      <td>US</td>\n      <td>350.00</td>\n      <td>810.00</td>\n      <td>1650.00</td>\n      <td>2017-12-14 15:08:11</td>\n      <td>2018-01-01</td>\n    </tr>\n    <tr>\n      <th>1609174070</th>\n      <td>Art Project: For Our Oceans</td>\n      <td>Painting</td>\n      <td>Art</td>\n      <td>USD</td>\n      <td>2017-12-29</td>\n      <td>3000.0</td>\n      <td>2017-12-14 19:42:20</td>\n      <td>0.00</td>\n      <td>0</td>\n      <td>0</td>\n      <td>US</td>\n      <td>0.00</td>\n      <td>0.00</td>\n      <td>3000.00</td>\n      <td>2017-12-14 19:42:20</td>\n      <td>2017-12-29</td>\n    </tr>\n    <tr>\n      <th>137829433</th>\n      <td>A Tribute to Vargas</td>\n      <td>Fine Art</td>\n      <td>Photography</td>\n      <td>CAD</td>\n      <td>2018-01-01</td>\n      <td>6000.0</td>\n      <td>2017-12-14 19:43:57</td>\n      <td>0.00</td>\n      <td>0</td>\n      <td>0</td>\n      <td>CA</td>\n      <td>0.00</td>\n      <td>0.00</td>\n      <td>4796.16</td>\n      <td>2017-12-14 19:43:57</td>\n      <td>2018-01-01</td>\n    </tr>\n    <tr>\n      <th>503265734</th>\n      <td>Wolf Like Me 2.0</td>\n      <td>Drinks</td>\n      <td>Food</td>\n      <td>CAD</td>\n      <td>2017-12-24</td>\n      <td>10000.0</td>\n      <td>2017-12-14 19:44:37</td>\n      <td>12425.00</td>\n      <td>1</td>\n      <td>38</td>\n      <td>CA</td>\n      <td>3792.06</td>\n      <td>9908.29</td>\n      <td>7974.48</td>\n      <td>2017-12-14 19:44:37</td>\n      <td>2017-12-24</td>\n    </tr>\n    <tr>\n      <th>1526774026</th>\n      <td>New Space-Science Theory</td>\n      <td>Academic</td>\n      <td>Publishing</td>\n      <td>USD</td>\n      <td>2017-12-28</td>\n      <td>1500.0</td>\n      <td>2017-12-14 22:14:06</td>\n      <td>156.00</td>\n      <td>0</td>\n      <td>5</td>\n      <td>US</td>\n      <td>0.00</td>\n      <td>156.00</td>\n      <td>1500.00</td>\n      <td>2017-12-14 22:14:06</td>\n      <td>2017-12-28</td>\n    </tr>\n    <tr>\n      <th>1498748922</th>\n      <td>Tabler art</td>\n      <td>Art</td>\n      <td>Art</td>\n      <td>USD</td>\n      <td>2017-12-31</td>\n      <td>7500.0</td>\n      <td>2017-12-15 02:57:18</td>\n      <td>280.00</td>\n      <td>0</td>\n      <td>6</td>\n      <td>US</td>\n      <td>135.00</td>\n      <td>280.00</td>\n      <td>7500.00</td>\n      <td>2017-12-15 02:57:18</td>\n      <td>2017-12-31</td>\n    </tr>\n    <tr>\n      <th>1343256522</th>\n      <td>Avie's Stories - Queer Friendly Children's Comic</td>\n      <td>Comic Books</td>\n      <td>Comics</td>\n      <td>USD</td>\n      <td>2018-01-01</td>\n      <td>100.0</td>\n      <td>2017-12-15 18:05:33</td>\n      <td>351.00</td>\n      <td>1</td>\n      <td>20</td>\n      <td>US</td>\n      <td>188.00</td>\n      <td>351.00</td>\n      <td>100.00</td>\n      <td>2017-12-15 18:05:33</td>\n      <td>2018-01-01</td>\n    </tr>\n    <tr>\n      <th>2083625005</th>\n      <td>Sailor Moon Sailor Senshi Enamel Pin Kickstarter</td>\n      <td>Illustration</td>\n      <td>Art</td>\n      <td>CAD</td>\n      <td>2017-12-31</td>\n      <td>2100.0</td>\n      <td>2017-12-15 20:39:21</td>\n      <td>1163.00</td>\n      <td>0</td>\n      <td>31</td>\n      <td>CA</td>\n      <td>0.00</td>\n      <td>929.66</td>\n      <td>1678.66</td>\n      <td>2017-12-15 20:39:21</td>\n      <td>2017-12-31</td>\n    </tr>\n    <tr>\n      <th>1958869690</th>\n      <td>BGO Mobile</td>\n      <td>Mobile Games</td>\n      <td>Games</td>\n      <td>EUR</td>\n      <td>2017-12-30</td>\n      <td>950.0</td>\n      <td>2017-12-16 02:00:38</td>\n      <td>5821.00</td>\n      <td>1</td>\n      <td>163</td>\n      <td>NL</td>\n      <td>2118.01</td>\n      <td>7011.39</td>\n      <td>1144.28</td>\n      <td>2017-12-16 02:00:38</td>\n      <td>2017-12-30</td>\n    </tr>\n    <tr>\n      <th>2134338514</th>\n      <td>Gemini Twilight - Issue #1 (Next Pages)</td>\n      <td>Webcomics</td>\n      <td>Comics</td>\n      <td>USD</td>\n      <td>2017-12-23</td>\n      <td>110.0</td>\n      <td>2017-12-16 02:42:54</td>\n      <td>174.00</td>\n      <td>1</td>\n      <td>11</td>\n      <td>US</td>\n      <td>45.00</td>\n      <td>174.00</td>\n      <td>110.00</td>\n      <td>2017-12-16 02:42:54</td>\n      <td>2017-12-23</td>\n    </tr>\n    <tr>\n      <th>1711208257</th>\n      <td>Charlie Short Film</td>\n      <td>Drama</td>\n      <td>Film &amp; Video</td>\n      <td>USD</td>\n      <td>2018-01-02</td>\n      <td>3650.0</td>\n      <td>2017-12-16 05:14:28</td>\n      <td>955.00</td>\n      <td>0</td>\n      <td>15</td>\n      <td>US</td>\n      <td>390.00</td>\n      <td>955.00</td>\n      <td>3650.00</td>\n      <td>2017-12-16 05:14:28</td>\n      <td>2018-01-02</td>\n    </tr>\n    <tr>\n      <th>643393067</th>\n      <td>Cultural Learnings</td>\n      <td>Journalism</td>\n      <td>Journalism</td>\n      <td>USD</td>\n      <td>2018-01-01</td>\n      <td>1000.0</td>\n      <td>2017-12-16 07:14:22</td>\n      <td>1425.00</td>\n      <td>1</td>\n      <td>34</td>\n      <td>US</td>\n      <td>275.00</td>\n      <td>1425.00</td>\n      <td>1000.00</td>\n      <td>2017-12-16 07:14:22</td>\n      <td>2018-01-01</td>\n    </tr>\n    <tr>\n      <th>1023854765</th>\n      <td>Longlasting, Durable, Wood Toys, Games, Furnit...</td>\n      <td>Woodworking</td>\n      <td>Crafts</td>\n      <td>USD</td>\n      <td>2017-12-28</td>\n      <td>1800.0</td>\n      <td>2017-12-16 11:49:35</td>\n      <td>95.00</td>\n      <td>0</td>\n      <td>4</td>\n      <td>US</td>\n      <td>0.00</td>\n      <td>95.00</td>\n      <td>1800.00</td>\n      <td>2017-12-16 11:49:35</td>\n      <td>2017-12-28</td>\n    </tr>\n    <tr>\n      <th>1451445493</th>\n      <td>Vellum</td>\n      <td>Fiction</td>\n      <td>Publishing</td>\n      <td>AUD</td>\n      <td>2017-12-23</td>\n      <td>350.0</td>\n      <td>2017-12-18 07:15:10</td>\n      <td>0.00</td>\n      <td>0</td>\n      <td>0</td>\n      <td>AU</td>\n      <td>0.00</td>\n      <td>0.00</td>\n      <td>273.52</td>\n      <td>2017-12-18 07:15:10</td>\n      <td>2017-12-23</td>\n    </tr>\n    <tr>\n      <th>872097237</th>\n      <td>School Cookie Sale!</td>\n      <td>Food</td>\n      <td>Food</td>\n      <td>USD</td>\n      <td>2017-12-28</td>\n      <td>600.0</td>\n      <td>2017-12-18 15:37:26</td>\n      <td>100.00</td>\n      <td>0</td>\n      <td>2</td>\n      <td>US</td>\n      <td>0.00</td>\n      <td>100.00</td>\n      <td>600.00</td>\n      <td>2017-12-18 15:37:26</td>\n      <td>2017-12-28</td>\n    </tr>\n    <tr>\n      <th>1918100775</th>\n      <td>Ghost in a Jar Enamel Pin</td>\n      <td>Accessories</td>\n      <td>Fashion</td>\n      <td>GBP</td>\n      <td>2018-01-01</td>\n      <td>150.0</td>\n      <td>2017-12-18 17:01:07</td>\n      <td>154.00</td>\n      <td>1</td>\n      <td>5</td>\n      <td>GB</td>\n      <td>73.27</td>\n      <td>208.69</td>\n      <td>203.27</td>\n      <td>2017-12-18 17:01:07</td>\n      <td>2018-01-01</td>\n    </tr>\n    <tr>\n      <th>1705137357</th>\n      <td>Center Touching Center - A Book of Poetry</td>\n      <td>Publishing</td>\n      <td>Publishing</td>\n      <td>USD</td>\n      <td>2017-12-28</td>\n      <td>3700.0</td>\n      <td>2017-12-19 04:10:24</td>\n      <td>0.00</td>\n      <td>0</td>\n      <td>0</td>\n      <td>US</td>\n      <td>0.00</td>\n      <td>0.00</td>\n      <td>3700.00</td>\n      <td>2017-12-19 04:10:24</td>\n      <td>2017-12-28</td>\n    </tr>\n    <tr>\n      <th>692238254</th>\n      <td>Twisted Anchor: A limited two week project.</td>\n      <td>Product Design</td>\n      <td>Design</td>\n      <td>USD</td>\n      <td>2018-01-02</td>\n      <td>500.0</td>\n      <td>2017-12-19 06:21:24</td>\n      <td>3830.00</td>\n      <td>1</td>\n      <td>334</td>\n      <td>US</td>\n      <td>497.00</td>\n      <td>3830.00</td>\n      <td>500.00</td>\n      <td>2017-12-19 06:21:24</td>\n      <td>2018-01-02</td>\n    </tr>\n    <tr>\n      <th>1100181726</th>\n      <td>Savage in Limbo</td>\n      <td>Theater</td>\n      <td>Theater</td>\n      <td>CAD</td>\n      <td>2018-01-01</td>\n      <td>3000.0</td>\n      <td>2017-12-19 18:18:45</td>\n      <td>200.00</td>\n      <td>0</td>\n      <td>2</td>\n      <td>CA</td>\n      <td>77.79</td>\n      <td>159.87</td>\n      <td>2398.08</td>\n      <td>2017-12-19 18:18:45</td>\n      <td>2018-01-01</td>\n    </tr>\n    <tr>\n      <th>1924831776</th>\n      <td>No Fix?</td>\n      <td>Documentary</td>\n      <td>Film &amp; Video</td>\n      <td>USD</td>\n      <td>2018-01-01</td>\n      <td>20000.0</td>\n      <td>2017-12-20 03:14:24</td>\n      <td>0.00</td>\n      <td>0</td>\n      <td>0</td>\n      <td>US</td>\n      <td>0.00</td>\n      <td>0.00</td>\n      <td>20000.00</td>\n      <td>2017-12-20 03:14:24</td>\n      <td>2018-01-01</td>\n    </tr>\n    <tr>\n      <th>201146560</th>\n      <td>No Label In Home Studio - The Future of Music</td>\n      <td>Music</td>\n      <td>Music</td>\n      <td>USD</td>\n      <td>2017-12-31</td>\n      <td>3500.0</td>\n      <td>2017-12-20 03:19:03</td>\n      <td>0.00</td>\n      <td>0</td>\n      <td>0</td>\n      <td>US</td>\n      <td>0.00</td>\n      <td>0.00</td>\n      <td>3500.00</td>\n      <td>2017-12-20 03:19:03</td>\n      <td>2017-12-31</td>\n    </tr>\n    <tr>\n      <th>400535254</th>\n      <td>Aaron Turner Comfort Project</td>\n      <td>Metal</td>\n      <td>Music</td>\n      <td>USD</td>\n      <td>2017-12-27</td>\n      <td>186.0</td>\n      <td>2017-12-20 03:24:31</td>\n      <td>262.01</td>\n      <td>1</td>\n      <td>17</td>\n      <td>US</td>\n      <td>45.00</td>\n      <td>262.01</td>\n      <td>186.00</td>\n      <td>2017-12-20 03:24:31</td>\n      <td>2017-12-27</td>\n    </tr>\n    <tr>\n      <th>1543817398</th>\n      <td>'Heruls from Skandia to Askatagkas: The myster...</td>\n      <td>Publishing</td>\n      <td>Publishing</td>\n      <td>EUR</td>\n      <td>2018-01-01</td>\n      <td>14600.0</td>\n      <td>2017-12-22 13:52:10</td>\n      <td>36.00</td>\n      <td>0</td>\n      <td>2</td>\n      <td>BE</td>\n      <td>0.00</td>\n      <td>43.36</td>\n      <td>17585.70</td>\n      <td>2017-12-22 13:52:10</td>\n      <td>2018-01-01</td>\n    </tr>\n    <tr>\n      <th>721805222</th>\n      <td>The Dumbest Thing In Your Mailbox - Part 5.5 -...</td>\n      <td>Art</td>\n      <td>Art</td>\n      <td>USD</td>\n      <td>2017-12-29</td>\n      <td>1.0</td>\n      <td>2017-12-22 20:25:04</td>\n      <td>113.00</td>\n      <td>1</td>\n      <td>24</td>\n      <td>US</td>\n      <td>89.00</td>\n      <td>113.00</td>\n      <td>1.00</td>\n      <td>2017-12-22 20:25:04</td>\n      <td>2017-12-29</td>\n    </tr>\n    <tr>\n      <th>1048845117</th>\n      <td>Super Fun Awesome Time</td>\n      <td>Tabletop Games</td>\n      <td>Games</td>\n      <td>USD</td>\n      <td>2017-12-24</td>\n      <td>250.0</td>\n      <td>2017-12-22 21:25:33</td>\n      <td>1590.00</td>\n      <td>1</td>\n      <td>9</td>\n      <td>US</td>\n      <td>1590.00</td>\n      <td>1590.00</td>\n      <td>250.00</td>\n      <td>2017-12-22 21:25:33</td>\n      <td>2017-12-24</td>\n    </tr>\n    <tr>\n      <th>749399445</th>\n      <td>Propeller Spring 2.0</td>\n      <td>Games</td>\n      <td>Games</td>\n      <td>EUR</td>\n      <td>2017-12-26</td>\n      <td>30.0</td>\n      <td>2017-12-23 10:14:21</td>\n      <td>225.00</td>\n      <td>1</td>\n      <td>36</td>\n      <td>AT</td>\n      <td>182.46</td>\n      <td>269.84</td>\n      <td>35.98</td>\n      <td>2017-12-23 10:14:21</td>\n      <td>2017-12-26</td>\n    </tr>\n    <tr>\n      <th>1223058036</th>\n      <td>The Cowboy and The Spaceman: Android Collective+</td>\n      <td>Tabletop Games</td>\n      <td>Games</td>\n      <td>GBP</td>\n      <td>2017-12-31</td>\n      <td>200.0</td>\n      <td>2017-12-26 13:00:24</td>\n      <td>402.00</td>\n      <td>1</td>\n      <td>25</td>\n      <td>GB</td>\n      <td>368.86</td>\n      <td>544.77</td>\n      <td>271.03</td>\n      <td>2017-12-26 13:00:24</td>\n      <td>2017-12-31</td>\n    </tr>\n    <tr>\n      <th>1411606124</th>\n      <td>The CHAMPS Are Here!</td>\n      <td>Apparel</td>\n      <td>Fashion</td>\n      <td>USD</td>\n      <td>2017-12-31</td>\n      <td>200.0</td>\n      <td>2017-12-27 03:52:38</td>\n      <td>202.00</td>\n      <td>1</td>\n      <td>6</td>\n      <td>US</td>\n      <td>179.00</td>\n      <td>202.00</td>\n      <td>200.00</td>\n      <td>2017-12-27 03:52:38</td>\n      <td>2017-12-31</td>\n    </tr>\n    <tr>\n      <th>156799983</th>\n      <td>Kill Them All!</td>\n      <td>Tabletop Games</td>\n      <td>Games</td>\n      <td>USD</td>\n      <td>2017-12-30</td>\n      <td>250.0</td>\n      <td>2017-12-28 01:48:58</td>\n      <td>265.00</td>\n      <td>1</td>\n      <td>7</td>\n      <td>US</td>\n      <td>25.00</td>\n      <td>265.00</td>\n      <td>250.00</td>\n      <td>2017-12-28 01:48:58</td>\n      <td>2017-12-30</td>\n    </tr>\n    <tr>\n      <th>801423615</th>\n      <td>Collaboration with Snoop Dogg</td>\n      <td>Hip-Hop</td>\n      <td>Music</td>\n      <td>AUD</td>\n      <td>2018-01-01</td>\n      <td>500.0</td>\n      <td>2017-12-29 03:22:32</td>\n      <td>655.00</td>\n      <td>1</td>\n      <td>6</td>\n      <td>AU</td>\n      <td>507.33</td>\n      <td>513.60</td>\n      <td>392.06</td>\n      <td>2017-12-29 03:22:32</td>\n      <td>2018-01-01</td>\n    </tr>\n  </tbody>\n</table>\n<p>331675 rows × 16 columns</p>\n</div>"
          },
          "metadata": {}
        }
      ]
    },
    {
      "metadata": {
        "trusted": true,
        "_uuid": "1011e2c0295eb372eed17d6d6f378e7ddc28389d"
      },
      "cell_type": "code",
      "source": "#creating features from the project name\n\n#length of name\nkick_projects['name_len'] = kick_projects.name.str.len()\n\n# presence of !\nkick_projects['name_exclaim'] = (kick_projects.name.str[-1] == '!').astype(int)\n\n# presence of !\nkick_projects['name_question'] = (kick_projects.name.str[-1] == '?').astype(int)\n\n# number of words in the name\nkick_projects['name_words'] = kick_projects.name.apply(lambda x: len(str(x).split(' ')))\n\n# if name is uppercase\nkick_projects['name_is_upper'] = kick_projects.name.str.isupper().astype(float)",
      "execution_count": 15,
      "outputs": []
    },
    {
      "metadata": {
        "trusted": true,
        "_uuid": "bf491e3e550530dcdf506ef1663d5abb3adbd3b9"
      },
      "cell_type": "code",
      "source": "# normalizing goal by applying log\nkick_projects['goal_log'] = np.log1p(kick_projects.goal)\n#creating goal features to check what range goal lies in\nkick_projects['Goal_10'] = kick_projects.goal.apply(lambda x: x // 10)\nkick_projects['Goal_1000'] = kick_projects.goal.apply(lambda x: x // 1000)\nkick_projects['Goal_100'] = kick_projects.goal.apply(lambda x: x // 100)\nkick_projects['Goal_500'] = kick_projects.goal.apply(lambda x: x // 500)",
      "execution_count": 16,
      "outputs": []
    },
    {
      "metadata": {
        "trusted": true,
        "_uuid": "2b9ff90d44cad2193b8e18966382f66819bea372"
      },
      "cell_type": "code",
      "source": "#features from date column\nkick_projects['duration']=(kick_projects['deadline_date']-kick_projects['launched_date']).dt.days\n#the idea for deriving launched quarter month year is that perhaps projects launched in a particular year/ quarter/ month might have a low success rate\nkick_projects['launched_quarter']= kick_projects['launched_date'].dt.quarter\nkick_projects['launched_month']= kick_projects['launched_date'].dt.month\nkick_projects['launched_year']= kick_projects['launched_date'].dt.year",
      "execution_count": 17,
      "outputs": []
    },
    {
      "metadata": {
        "trusted": true,
        "_uuid": "837a3baa8aa0dae82ae5033c7302d844b000eed9"
      },
      "cell_type": "code",
      "source": "#additional features from goal, pledge and backers columns\nkick_projects.loc[:,'goal_reached'] = kick_projects['pledged'] / kick_projects['goal'] # Pledged amount as a percentage of goal.\n#The above field will be used to compute another metric\n# In backers column, impute 0 with 1 to prevent undefined division.\nkick_projects.loc[kick_projects['backers'] == 0, 'backers'] = 1 \nkick_projects.loc[:,'pledge_per_backer'] = kick_projects['pledged'] / kick_projects['backers'] # Pledged amount per backer.",
      "execution_count": 18,
      "outputs": []
    },
    {
      "metadata": {
        "trusted": true,
        "_uuid": "2ea3f2449798864280f007eb7189d740cce69123"
      },
      "cell_type": "code",
      "source": "#will create percentile buckets for the goal amount in a category\nkick_projects['goal_cat_perc'] =  kick_projects.groupby(['category'])['goal'].transform(\n                     lambda x: pd.qcut(x, [0, .35, .70, 1.0], labels =[1,2,3]))",
      "execution_count": 19,
      "outputs": []
    },
    {
      "metadata": {
        "trusted": true,
        "_uuid": "6b225db33392d67683aa8496fb79d1269e4f7d61"
      },
      "cell_type": "code",
      "source": "#creating a metric to see number of competitors for a given project\n#number of participants in a given category, that launched in the same year and quarter and in the same goal bucket\nks_particpants=kick_projects.groupby(['category','launched_year','launched_quarter','goal_cat_perc']).count()\nks_particpants=ks_particpants[['name']]\n#since the above table has all group by columns created as index, converting them into columns\nks_particpants.reset_index(inplace=True)",
      "execution_count": 20,
      "outputs": []
    },
    {
      "metadata": {
        "trusted": true,
        "_uuid": "3e4ed868f5a015b1628864cb18974a55c7c45719"
      },
      "cell_type": "code",
      "source": "#renaming columns of the derived table\ncolmns=['category', 'launched_year', 'launched_quarter', 'goal_cat_perc', 'participants']\nks_particpants.columns=colmns",
      "execution_count": 21,
      "outputs": []
    },
    {
      "metadata": {
        "trusted": true,
        "_uuid": "8489bc88cd825f37ac74e9398c639f062fd7fba6"
      },
      "cell_type": "code",
      "source": "#merging the particpants column into the base table\nkick_projects = pd.merge(kick_projects, ks_particpants, on = ['category', 'launched_year', 'launched_quarter','goal_cat_perc'], how = 'left')",
      "execution_count": 22,
      "outputs": []
    },
    {
      "metadata": {
        "trusted": true,
        "_uuid": "e093fbe166f5ee625f0b7a2d2a4406bed9deac59"
      },
      "cell_type": "code",
      "source": "#creating 2 metrics to get average pledge per backer for a category in a year according to the goal bucket it lies in and the success rate ie average pledged to goal ratio for the category in this year\n#using pledge_per_backer (computed earlier) and averaging it by category in a launch year\nks_ppb=pd.DataFrame(kick_projects.groupby(['category','launched_year','goal_cat_perc'])['pledge_per_backer','goal_reached'].mean())\n#since the above table has all group by columns created as index, converting them into columns\nks_ppb.reset_index(inplace=True)\n#renaming column\nks_ppb.columns= ['category','launched_year','goal_cat_perc','avg_ppb','avg_success_rate']\nks_ppb[:2]",
      "execution_count": 23,
      "outputs": [
        {
          "output_type": "execute_result",
          "execution_count": 23,
          "data": {
            "text/plain": "      category  launched_year        ...            avg_ppb  avg_success_rate\n0  3D Printing           2013        ...         299.627488         14.359722\n1  3D Printing           2013        ...         386.287518          3.153138\n\n[2 rows x 5 columns]",
            "text/html": "<div>\n<style scoped>\n    .dataframe tbody tr th:only-of-type {\n        vertical-align: middle;\n    }\n\n    .dataframe tbody tr th {\n        vertical-align: top;\n    }\n\n    .dataframe thead th {\n        text-align: right;\n    }\n</style>\n<table border=\"1\" class=\"dataframe\">\n  <thead>\n    <tr style=\"text-align: right;\">\n      <th></th>\n      <th>category</th>\n      <th>launched_year</th>\n      <th>goal_cat_perc</th>\n      <th>avg_ppb</th>\n      <th>avg_success_rate</th>\n    </tr>\n  </thead>\n  <tbody>\n    <tr>\n      <th>0</th>\n      <td>3D Printing</td>\n      <td>2013</td>\n      <td>1.0</td>\n      <td>299.627488</td>\n      <td>14.359722</td>\n    </tr>\n    <tr>\n      <th>1</th>\n      <td>3D Printing</td>\n      <td>2013</td>\n      <td>2.0</td>\n      <td>386.287518</td>\n      <td>3.153138</td>\n    </tr>\n  </tbody>\n</table>\n</div>"
          },
          "metadata": {}
        }
      ]
    },
    {
      "metadata": {
        "trusted": true,
        "_uuid": "733f7047afab702b56a62e7ef330f33d450e1825"
      },
      "cell_type": "code",
      "source": "#merging the particpants column into the base table\nkick_projects = pd.merge(kick_projects, ks_ppb, on = ['category', 'launched_year','goal_cat_perc'], how = 'left')",
      "execution_count": 24,
      "outputs": []
    },
    {
      "metadata": {
        "trusted": true,
        "_uuid": "fd90aa6effcd7d3214e9cffa0bac173867ba341f"
      },
      "cell_type": "code",
      "source": "# replacing all 'N,0\"' values in the country column with 'NZERO' to avoid discrepancies while one hot encoding\nkick_projects = kick_projects.replace({'country': 'N,0\"'}, {'country': 'NZERO'}, regex=True)",
      "execution_count": 25,
      "outputs": []
    },
    {
      "metadata": {
        "trusted": true,
        "_uuid": "e9805dac04702df31631c2858f145eb45fab33a2"
      },
      "cell_type": "code",
      "source": "list(kick_projects)",
      "execution_count": 26,
      "outputs": [
        {
          "output_type": "execute_result",
          "execution_count": 26,
          "data": {
            "text/plain": "['name',\n 'category',\n 'main_category',\n 'currency',\n 'deadline',\n 'goal',\n 'launched',\n 'pledged',\n 'state',\n 'backers',\n 'country',\n 'usd_pledged',\n 'usd_pledged_real',\n 'usd_goal_real',\n 'launched_date',\n 'deadline_date',\n 'name_len',\n 'name_exclaim',\n 'name_question',\n 'name_words',\n 'name_is_upper',\n 'goal_log',\n 'Goal_10',\n 'Goal_1000',\n 'Goal_100',\n 'Goal_500',\n 'duration',\n 'launched_quarter',\n 'launched_month',\n 'launched_year',\n 'goal_reached',\n 'pledge_per_backer',\n 'goal_cat_perc',\n 'participants',\n 'avg_ppb',\n 'avg_success_rate']"
          },
          "metadata": {}
        }
      ]
    },
    {
      "metadata": {
        "trusted": true,
        "_uuid": "68290e95608aaa2ed633b2cab0ed80a6b5368e73"
      },
      "cell_type": "code",
      "source": "#selecting the needed fields only\n#this will lead to the final features list\nkick_projects=kick_projects[['category',\n 'main_category',\n 'currency',\n 'goal',\n 'state',\n 'country',\n 'usd_goal_real',\n 'name_len',\n 'name_exclaim',\n 'name_question',\n 'name_words',\n 'name_is_upper',\n 'goal_log',\n 'Goal_10',\n 'Goal_1000',\n 'Goal_100',\n 'Goal_500',\n 'duration',\n 'launched_quarter',\n 'launched_month',\n 'launched_year',\n 'goal_cat_perc',\n 'participants',\n 'avg_ppb',\n 'avg_success_rate']]",
      "execution_count": 27,
      "outputs": []
    },
    {
      "metadata": {
        "trusted": true,
        "_uuid": "dbc5c211ab9cf50dfcca0086c58cb42dd4860826"
      },
      "cell_type": "code",
      "source": "#these functions will be used on the textual column entries to remove '&','-' or white spaces\ndef replace_ampersand(val):\n    if isinstance(val, str):\n        return(val.replace('&', 'and'))\n    else:\n        return(val)\n\ndef replace_hyphen(val):\n    if isinstance(val, str):\n        return(val.replace('-', '_'))\n    else:\n        return(val)    \n    \ndef remove_extraspace(val):\n        if isinstance(val, str):\n            return(val.strip())\n        else:\n            return(val) \n\ndef replace_space(val):\n        if isinstance(val, str):\n            return(val.replace(' ', '_'))\n        else:\n            return(val)         ",
      "execution_count": 28,
      "outputs": []
    },
    {
      "metadata": {
        "trusted": true,
        "_uuid": "bdda369b978137ff76ac60204e77bdded576b964"
      },
      "cell_type": "code",
      "source": "#apply those functions to all cat columns\n#this will remove special characters from the character columns.\n#Since these fileds will be one-hot encoded, the column names so derived should be compatible with the requied format\nkick_projects['category'] = kick_projects['category'].apply(remove_extraspace)\nkick_projects['category'] = kick_projects['category'].apply(replace_ampersand)\nkick_projects['category'] = kick_projects['category'].apply(replace_hyphen)\nkick_projects['category'] = kick_projects['category'].apply(replace_space)\n\nkick_projects['main_category'] = kick_projects['main_category'].apply(remove_extraspace)\nkick_projects['main_category'] = kick_projects['main_category'].apply(replace_ampersand)\nkick_projects['main_category'] = kick_projects['main_category'].apply(replace_hyphen)\nkick_projects['main_category'] = kick_projects['main_category'].apply(replace_space)",
      "execution_count": 29,
      "outputs": []
    },
    {
      "metadata": {
        "trusted": true,
        "_uuid": "030ea50e9a1ecc0bbefb7b03b537e9e15e5265bb"
      },
      "cell_type": "code",
      "source": "#missing value treatment\n# Check for nulls.\nkick_projects.isnull().sum()",
      "execution_count": 30,
      "outputs": [
        {
          "output_type": "execute_result",
          "execution_count": 30,
          "data": {
            "text/plain": "category            0\nmain_category       0\ncurrency            0\ngoal                0\nstate               0\ncountry             0\nusd_goal_real       0\nname_len            3\nname_exclaim        0\nname_question       0\nname_words          0\nname_is_upper       3\ngoal_log            0\nGoal_10             0\nGoal_1000           0\nGoal_100            0\nGoal_500            0\nduration            0\nlaunched_quarter    0\nlaunched_month      0\nlaunched_year       0\ngoal_cat_perc       0\nparticipants        0\navg_ppb             0\navg_success_rate    0\ndtype: int64"
          },
          "metadata": {}
        }
      ]
    },
    {
      "metadata": {
        "_uuid": "f650fd1b3060ec8e9da27526eb4fbae49042dc1c"
      },
      "cell_type": "markdown",
      "source": "There are only 3 rows with nulls, and the rows with nulls have no names. These rows can be removed."
    },
    {
      "metadata": {
        "trusted": true,
        "_uuid": "1df9f84243000b01b8a31baba3ffdc8897d44ba1"
      },
      "cell_type": "code",
      "source": "#dropping all rows that have any nulls\nkick_projects=kick_projects.dropna() ",
      "execution_count": 31,
      "outputs": []
    },
    {
      "metadata": {
        "trusted": true,
        "_uuid": "82fbc8cb73fddb3818a55d083f2fa8dd739e0de4"
      },
      "cell_type": "code",
      "source": "# Check for nulls again.\nkick_projects.isnull().sum()",
      "execution_count": 32,
      "outputs": [
        {
          "output_type": "execute_result",
          "execution_count": 32,
          "data": {
            "text/plain": "category            0\nmain_category       0\ncurrency            0\ngoal                0\nstate               0\ncountry             0\nusd_goal_real       0\nname_len            0\nname_exclaim        0\nname_question       0\nname_words          0\nname_is_upper       0\ngoal_log            0\nGoal_10             0\nGoal_1000           0\nGoal_100            0\nGoal_500            0\nduration            0\nlaunched_quarter    0\nlaunched_month      0\nlaunched_year       0\ngoal_cat_perc       0\nparticipants        0\navg_ppb             0\navg_success_rate    0\ndtype: int64"
          },
          "metadata": {}
        }
      ]
    },
    {
      "metadata": {
        "_uuid": "2f39bd5e599df08a66a2a90bf9e2766313107dfe"
      },
      "cell_type": "markdown",
      "source": "No nulls, we are good to go"
    },
    {
      "metadata": {
        "trusted": true,
        "_uuid": "e5ef7150945bfa55ac1597e7fa51e646a187fc24"
      },
      "cell_type": "code",
      "source": "kick_projects.head()",
      "execution_count": 33,
      "outputs": [
        {
          "output_type": "execute_result",
          "execution_count": 33,
          "data": {
            "text/plain": "       category   main_category        ...           avg_ppb  avg_success_rate\n0       Fashion         Fashion        ...         40.982361          0.325542\n1        Shorts  Film_and_Video        ...         65.203511          0.274317\n2  Illustration             Art        ...         13.095238          0.552500\n3      Software      Technology        ...         36.765524          0.572958\n4       Fashion         Fashion        ...         40.982361          0.325542\n\n[5 rows x 25 columns]",
            "text/html": "<div>\n<style scoped>\n    .dataframe tbody tr th:only-of-type {\n        vertical-align: middle;\n    }\n\n    .dataframe tbody tr th {\n        vertical-align: top;\n    }\n\n    .dataframe thead th {\n        text-align: right;\n    }\n</style>\n<table border=\"1\" class=\"dataframe\">\n  <thead>\n    <tr style=\"text-align: right;\">\n      <th></th>\n      <th>category</th>\n      <th>main_category</th>\n      <th>currency</th>\n      <th>goal</th>\n      <th>state</th>\n      <th>country</th>\n      <th>usd_goal_real</th>\n      <th>name_len</th>\n      <th>name_exclaim</th>\n      <th>name_question</th>\n      <th>name_words</th>\n      <th>name_is_upper</th>\n      <th>goal_log</th>\n      <th>Goal_10</th>\n      <th>Goal_1000</th>\n      <th>Goal_100</th>\n      <th>Goal_500</th>\n      <th>duration</th>\n      <th>launched_quarter</th>\n      <th>launched_month</th>\n      <th>launched_year</th>\n      <th>goal_cat_perc</th>\n      <th>participants</th>\n      <th>avg_ppb</th>\n      <th>avg_success_rate</th>\n    </tr>\n  </thead>\n  <tbody>\n    <tr>\n      <th>0</th>\n      <td>Fashion</td>\n      <td>Fashion</td>\n      <td>USD</td>\n      <td>1000.0</td>\n      <td>0</td>\n      <td>US</td>\n      <td>1000.0</td>\n      <td>59.0</td>\n      <td>0</td>\n      <td>0</td>\n      <td>11</td>\n      <td>0.0</td>\n      <td>6.908755</td>\n      <td>100.0</td>\n      <td>1.0</td>\n      <td>10.0</td>\n      <td>2.0</td>\n      <td>39</td>\n      <td>2</td>\n      <td>4</td>\n      <td>2009</td>\n      <td>1.0</td>\n      <td>3</td>\n      <td>40.982361</td>\n      <td>0.325542</td>\n    </tr>\n    <tr>\n      <th>1</th>\n      <td>Shorts</td>\n      <td>Film_and_Video</td>\n      <td>USD</td>\n      <td>80000.0</td>\n      <td>0</td>\n      <td>US</td>\n      <td>80000.0</td>\n      <td>30.0</td>\n      <td>0</td>\n      <td>0</td>\n      <td>4</td>\n      <td>1.0</td>\n      <td>11.289794</td>\n      <td>8000.0</td>\n      <td>80.0</td>\n      <td>800.0</td>\n      <td>160.0</td>\n      <td>87</td>\n      <td>2</td>\n      <td>4</td>\n      <td>2009</td>\n      <td>3.0</td>\n      <td>1</td>\n      <td>65.203511</td>\n      <td>0.274317</td>\n    </tr>\n    <tr>\n      <th>2</th>\n      <td>Illustration</td>\n      <td>Art</td>\n      <td>USD</td>\n      <td>20.0</td>\n      <td>1</td>\n      <td>US</td>\n      <td>20.0</td>\n      <td>19.0</td>\n      <td>0</td>\n      <td>0</td>\n      <td>3</td>\n      <td>0.0</td>\n      <td>3.044522</td>\n      <td>2.0</td>\n      <td>0.0</td>\n      <td>0.0</td>\n      <td>0.0</td>\n      <td>8</td>\n      <td>2</td>\n      <td>4</td>\n      <td>2009</td>\n      <td>1.0</td>\n      <td>3</td>\n      <td>13.095238</td>\n      <td>0.552500</td>\n    </tr>\n    <tr>\n      <th>3</th>\n      <td>Software</td>\n      <td>Technology</td>\n      <td>USD</td>\n      <td>99.0</td>\n      <td>1</td>\n      <td>US</td>\n      <td>99.0</td>\n      <td>28.0</td>\n      <td>0</td>\n      <td>0</td>\n      <td>4</td>\n      <td>0.0</td>\n      <td>4.605170</td>\n      <td>9.0</td>\n      <td>0.0</td>\n      <td>0.0</td>\n      <td>0.0</td>\n      <td>79</td>\n      <td>2</td>\n      <td>4</td>\n      <td>2009</td>\n      <td>1.0</td>\n      <td>7</td>\n      <td>36.765524</td>\n      <td>0.572958</td>\n    </tr>\n    <tr>\n      <th>4</th>\n      <td>Fashion</td>\n      <td>Fashion</td>\n      <td>USD</td>\n      <td>1900.0</td>\n      <td>0</td>\n      <td>US</td>\n      <td>1900.0</td>\n      <td>10.0</td>\n      <td>0</td>\n      <td>0</td>\n      <td>1</td>\n      <td>0.0</td>\n      <td>7.550135</td>\n      <td>190.0</td>\n      <td>1.0</td>\n      <td>19.0</td>\n      <td>3.0</td>\n      <td>28</td>\n      <td>2</td>\n      <td>4</td>\n      <td>2009</td>\n      <td>1.0</td>\n      <td>3</td>\n      <td>40.982361</td>\n      <td>0.325542</td>\n    </tr>\n  </tbody>\n</table>\n</div>"
          },
          "metadata": {}
        }
      ]
    },
    {
      "metadata": {
        "trusted": true,
        "_uuid": "1624702e4d33399ea9f22bfb94186510b2b628a5"
      },
      "cell_type": "code",
      "source": "# One-Hot encoding to convert categorical columns to numeric\nprint('start one-hot encoding')\n\nkick_projects_ip = pd.get_dummies(kick_projects, prefix = [ 'category', 'main_category', 'currency','country'],\n                             columns = [ 'category', 'main_category', 'currency','country'])\n    \n#this will have created 1-0 flag columns (like a sparse matrix)    \nprint('ADS dummy columns made')",
      "execution_count": 34,
      "outputs": [
        {
          "output_type": "stream",
          "text": "start one-hot encoding\nADS dummy columns made\n",
          "name": "stdout"
        }
      ]
    },
    {
      "metadata": {
        "trusted": true,
        "_uuid": "f55f59fceac8fd7dfdc96c11a7013edf53001784"
      },
      "cell_type": "code",
      "source": "#creating 2 arrays: features and response\n\n#features will have all independent variables\nfeatures=list(kick_projects_ip)\nfeatures.remove('state')\n#response has the target variable\nresponse= ['state']",
      "execution_count": 35,
      "outputs": []
    },
    {
      "metadata": {
        "trusted": true,
        "_uuid": "ca212535c5c49d898b07249eff28b7588edb6d79"
      },
      "cell_type": "code",
      "source": "features",
      "execution_count": 36,
      "outputs": [
        {
          "output_type": "execute_result",
          "execution_count": 36,
          "data": {
            "text/plain": "['goal',\n 'usd_goal_real',\n 'name_len',\n 'name_exclaim',\n 'name_question',\n 'name_words',\n 'name_is_upper',\n 'goal_log',\n 'Goal_10',\n 'Goal_1000',\n 'Goal_100',\n 'Goal_500',\n 'duration',\n 'launched_quarter',\n 'launched_month',\n 'launched_year',\n 'goal_cat_perc',\n 'participants',\n 'avg_ppb',\n 'avg_success_rate',\n 'category_3D_Printing',\n 'category_Academic',\n 'category_Accessories',\n 'category_Action',\n 'category_Animals',\n 'category_Animation',\n 'category_Anthologies',\n 'category_Apparel',\n 'category_Apps',\n 'category_Architecture',\n 'category_Art',\n 'category_Art_Books',\n 'category_Audio',\n 'category_Bacon',\n 'category_Blues',\n 'category_Calendars',\n 'category_Camera_Equipment',\n 'category_Candles',\n 'category_Ceramics',\n \"category_Children's_Books\",\n 'category_Childrenswear',\n 'category_Chiptune',\n 'category_Civic_Design',\n 'category_Classical_Music',\n 'category_Comedy',\n 'category_Comic_Books',\n 'category_Comics',\n 'category_Community_Gardens',\n 'category_Conceptual_Art',\n 'category_Cookbooks',\n 'category_Country_and_Folk',\n 'category_Couture',\n 'category_Crafts',\n 'category_Crochet',\n 'category_DIY',\n 'category_DIY_Electronics',\n 'category_Dance',\n 'category_Design',\n 'category_Digital_Art',\n 'category_Documentary',\n 'category_Drama',\n 'category_Drinks',\n 'category_Electronic_Music',\n 'category_Embroidery',\n 'category_Events',\n 'category_Experimental',\n 'category_Fabrication_Tools',\n 'category_Faith',\n 'category_Family',\n 'category_Fantasy',\n \"category_Farmer's_Markets\",\n 'category_Farms',\n 'category_Fashion',\n 'category_Festivals',\n 'category_Fiction',\n 'category_Film_and_Video',\n 'category_Fine_Art',\n 'category_Flight',\n 'category_Food',\n 'category_Food_Trucks',\n 'category_Footwear',\n 'category_Gadgets',\n 'category_Games',\n 'category_Gaming_Hardware',\n 'category_Glass',\n 'category_Graphic_Design',\n 'category_Graphic_Novels',\n 'category_Hardware',\n 'category_Hip_Hop',\n 'category_Horror',\n 'category_Illustration',\n 'category_Immersive',\n 'category_Indie_Rock',\n 'category_Installations',\n 'category_Interactive_Design',\n 'category_Jazz',\n 'category_Jewelry',\n 'category_Journalism',\n 'category_Kids',\n 'category_Knitting',\n 'category_Latin',\n 'category_Letterpress',\n 'category_Literary_Journals',\n 'category_Literary_Spaces',\n 'category_Live_Games',\n 'category_Makerspaces',\n 'category_Metal',\n 'category_Mixed_Media',\n 'category_Mobile_Games',\n 'category_Movie_Theaters',\n 'category_Music',\n 'category_Music_Videos',\n 'category_Musical',\n 'category_Narrative_Film',\n 'category_Nature',\n 'category_Nonfiction',\n 'category_Painting',\n 'category_People',\n 'category_Performance_Art',\n 'category_Performances',\n 'category_Periodicals',\n 'category_Pet_Fashion',\n 'category_Photo',\n 'category_Photobooks',\n 'category_Photography',\n 'category_Places',\n 'category_Playing_Cards',\n 'category_Plays',\n 'category_Poetry',\n 'category_Pop',\n 'category_Pottery',\n 'category_Print',\n 'category_Printing',\n 'category_Product_Design',\n 'category_Public_Art',\n 'category_Publishing',\n 'category_Punk',\n 'category_Puzzles',\n 'category_Quilts',\n 'category_Radio_and_Podcasts',\n 'category_RandB',\n 'category_Ready_to_wear',\n 'category_Residencies',\n 'category_Restaurants',\n 'category_Robots',\n 'category_Rock',\n 'category_Romance',\n 'category_Science_Fiction',\n 'category_Sculpture',\n 'category_Shorts',\n 'category_Small_Batch',\n 'category_Software',\n 'category_Sound',\n 'category_Space_Exploration',\n 'category_Spaces',\n 'category_Stationery',\n 'category_Tabletop_Games',\n 'category_Taxidermy',\n 'category_Technology',\n 'category_Television',\n 'category_Textiles',\n 'category_Theater',\n 'category_Thrillers',\n 'category_Translations',\n 'category_Typography',\n 'category_Vegan',\n 'category_Video',\n 'category_Video_Art',\n 'category_Video_Games',\n 'category_Wearables',\n 'category_Weaving',\n 'category_Web',\n 'category_Webcomics',\n 'category_Webseries',\n 'category_Woodworking',\n 'category_Workshops',\n 'category_World_Music',\n 'category_Young_Adult',\n 'category_Zines',\n 'main_category_Art',\n 'main_category_Comics',\n 'main_category_Crafts',\n 'main_category_Dance',\n 'main_category_Design',\n 'main_category_Fashion',\n 'main_category_Film_and_Video',\n 'main_category_Food',\n 'main_category_Games',\n 'main_category_Journalism',\n 'main_category_Music',\n 'main_category_Photography',\n 'main_category_Publishing',\n 'main_category_Technology',\n 'main_category_Theater',\n 'currency_AUD',\n 'currency_CAD',\n 'currency_CHF',\n 'currency_DKK',\n 'currency_EUR',\n 'currency_GBP',\n 'currency_HKD',\n 'currency_JPY',\n 'currency_MXN',\n 'currency_NOK',\n 'currency_NZD',\n 'currency_SEK',\n 'currency_SGD',\n 'currency_USD',\n 'country_AT',\n 'country_AU',\n 'country_BE',\n 'country_CA',\n 'country_CH',\n 'country_DE',\n 'country_DK',\n 'country_ES',\n 'country_FR',\n 'country_GB',\n 'country_HK',\n 'country_IE',\n 'country_IT',\n 'country_JP',\n 'country_LU',\n 'country_MX',\n 'country_NL',\n 'country_NO',\n 'country_NZ',\n 'country_NZERO',\n 'country_SE',\n 'country_SG',\n 'country_US']"
          },
          "metadata": {}
        }
      ]
    },
    {
      "metadata": {
        "trusted": true,
        "_uuid": "5800d73f5738e7e2f54fb41e42b849967120c76a"
      },
      "cell_type": "code",
      "source": "#creating a backup copy of the input dataset\nkick_projects_ip_copy= kick_projects_ip.copy()",
      "execution_count": 37,
      "outputs": []
    },
    {
      "metadata": {
        "trusted": true,
        "_uuid": "c3d577db0d67603a11ea8c76a3f85f7b7db4cabe"
      },
      "cell_type": "code",
      "source": "kick_projects_ip[features].shape",
      "execution_count": 38,
      "outputs": [
        {
          "output_type": "execute_result",
          "execution_count": 38,
          "data": {
            "text/plain": "(331672, 231)"
          },
          "metadata": {}
        }
      ]
    },
    {
      "metadata": {
        "trusted": true,
        "_uuid": "db431e0ede0ca45a6b2a471fc674ba7afe04c868"
      },
      "cell_type": "code",
      "source": "# normalize the data attributes\nkick_projects_ip_scaled_ftrs = pd.DataFrame(preprocessing.normalize(kick_projects_ip[features]))\nkick_projects_ip_scaled_ftrs.columns=list(kick_projects_ip[features])",
      "execution_count": 39,
      "outputs": []
    },
    {
      "metadata": {
        "trusted": true,
        "_uuid": "0064f92ba73f90d19564565e9bdd8bc4cb8950cc"
      },
      "cell_type": "code",
      "source": "kick_projects_ip_scaled_ftrs[:3]\n#kick_projects_ip[features].shape",
      "execution_count": 40,
      "outputs": [
        {
          "output_type": "execute_result",
          "execution_count": 40,
          "data": {
            "text/plain": "       goal  usd_goal_real     ...      country_SG  country_US\n0  0.406455       0.406455     ...             0.0    0.000406\n1  0.705216       0.705216     ...             0.0    0.000009\n2  0.009953       0.009953     ...             0.0    0.000498\n\n[3 rows x 231 columns]",
            "text/html": "<div>\n<style scoped>\n    .dataframe tbody tr th:only-of-type {\n        vertical-align: middle;\n    }\n\n    .dataframe tbody tr th {\n        vertical-align: top;\n    }\n\n    .dataframe thead th {\n        text-align: right;\n    }\n</style>\n<table border=\"1\" class=\"dataframe\">\n  <thead>\n    <tr style=\"text-align: right;\">\n      <th></th>\n      <th>goal</th>\n      <th>usd_goal_real</th>\n      <th>name_len</th>\n      <th>name_exclaim</th>\n      <th>name_question</th>\n      <th>name_words</th>\n      <th>name_is_upper</th>\n      <th>goal_log</th>\n      <th>Goal_10</th>\n      <th>Goal_1000</th>\n      <th>Goal_100</th>\n      <th>Goal_500</th>\n      <th>duration</th>\n      <th>launched_quarter</th>\n      <th>launched_month</th>\n      <th>launched_year</th>\n      <th>goal_cat_perc</th>\n      <th>participants</th>\n      <th>avg_ppb</th>\n      <th>avg_success_rate</th>\n      <th>category_3D_Printing</th>\n      <th>category_Academic</th>\n      <th>category_Accessories</th>\n      <th>category_Action</th>\n      <th>category_Animals</th>\n      <th>category_Animation</th>\n      <th>category_Anthologies</th>\n      <th>category_Apparel</th>\n      <th>category_Apps</th>\n      <th>category_Architecture</th>\n      <th>category_Art</th>\n      <th>category_Art_Books</th>\n      <th>category_Audio</th>\n      <th>category_Bacon</th>\n      <th>category_Blues</th>\n      <th>category_Calendars</th>\n      <th>category_Camera_Equipment</th>\n      <th>category_Candles</th>\n      <th>category_Ceramics</th>\n      <th>category_Children's_Books</th>\n      <th>...</th>\n      <th>main_category_Publishing</th>\n      <th>main_category_Technology</th>\n      <th>main_category_Theater</th>\n      <th>currency_AUD</th>\n      <th>currency_CAD</th>\n      <th>currency_CHF</th>\n      <th>currency_DKK</th>\n      <th>currency_EUR</th>\n      <th>currency_GBP</th>\n      <th>currency_HKD</th>\n      <th>currency_JPY</th>\n      <th>currency_MXN</th>\n      <th>currency_NOK</th>\n      <th>currency_NZD</th>\n      <th>currency_SEK</th>\n      <th>currency_SGD</th>\n      <th>currency_USD</th>\n      <th>country_AT</th>\n      <th>country_AU</th>\n      <th>country_BE</th>\n      <th>country_CA</th>\n      <th>country_CH</th>\n      <th>country_DE</th>\n      <th>country_DK</th>\n      <th>country_ES</th>\n      <th>country_FR</th>\n      <th>country_GB</th>\n      <th>country_HK</th>\n      <th>country_IE</th>\n      <th>country_IT</th>\n      <th>country_JP</th>\n      <th>country_LU</th>\n      <th>country_MX</th>\n      <th>country_NL</th>\n      <th>country_NO</th>\n      <th>country_NZ</th>\n      <th>country_NZERO</th>\n      <th>country_SE</th>\n      <th>country_SG</th>\n      <th>country_US</th>\n    </tr>\n  </thead>\n  <tbody>\n    <tr>\n      <th>0</th>\n      <td>0.406455</td>\n      <td>0.406455</td>\n      <td>0.023981</td>\n      <td>0.0</td>\n      <td>0.0</td>\n      <td>0.004471</td>\n      <td>0.000000</td>\n      <td>0.002808</td>\n      <td>0.040645</td>\n      <td>0.000406</td>\n      <td>0.004065</td>\n      <td>0.000813</td>\n      <td>0.015852</td>\n      <td>0.000813</td>\n      <td>0.001626</td>\n      <td>0.816567</td>\n      <td>0.000406</td>\n      <td>0.001219</td>\n      <td>0.016657</td>\n      <td>0.000132</td>\n      <td>0.0</td>\n      <td>0.0</td>\n      <td>0.0</td>\n      <td>0.0</td>\n      <td>0.0</td>\n      <td>0.0</td>\n      <td>0.0</td>\n      <td>0.0</td>\n      <td>0.0</td>\n      <td>0.0</td>\n      <td>0.0</td>\n      <td>0.0</td>\n      <td>0.0</td>\n      <td>0.0</td>\n      <td>0.0</td>\n      <td>0.0</td>\n      <td>0.0</td>\n      <td>0.0</td>\n      <td>0.0</td>\n      <td>0.0</td>\n      <td>...</td>\n      <td>0.0</td>\n      <td>0.0</td>\n      <td>0.0</td>\n      <td>0.0</td>\n      <td>0.0</td>\n      <td>0.0</td>\n      <td>0.0</td>\n      <td>0.0</td>\n      <td>0.0</td>\n      <td>0.0</td>\n      <td>0.0</td>\n      <td>0.0</td>\n      <td>0.0</td>\n      <td>0.0</td>\n      <td>0.0</td>\n      <td>0.0</td>\n      <td>0.000406</td>\n      <td>0.0</td>\n      <td>0.0</td>\n      <td>0.0</td>\n      <td>0.0</td>\n      <td>0.0</td>\n      <td>0.0</td>\n      <td>0.0</td>\n      <td>0.0</td>\n      <td>0.0</td>\n      <td>0.0</td>\n      <td>0.0</td>\n      <td>0.0</td>\n      <td>0.0</td>\n      <td>0.0</td>\n      <td>0.0</td>\n      <td>0.0</td>\n      <td>0.0</td>\n      <td>0.0</td>\n      <td>0.0</td>\n      <td>0.0</td>\n      <td>0.0</td>\n      <td>0.0</td>\n      <td>0.000406</td>\n    </tr>\n    <tr>\n      <th>1</th>\n      <td>0.705216</td>\n      <td>0.705216</td>\n      <td>0.000264</td>\n      <td>0.0</td>\n      <td>0.0</td>\n      <td>0.000035</td>\n      <td>0.000009</td>\n      <td>0.000100</td>\n      <td>0.070522</td>\n      <td>0.000705</td>\n      <td>0.007052</td>\n      <td>0.001410</td>\n      <td>0.000767</td>\n      <td>0.000018</td>\n      <td>0.000035</td>\n      <td>0.017710</td>\n      <td>0.000026</td>\n      <td>0.000009</td>\n      <td>0.000575</td>\n      <td>0.000002</td>\n      <td>0.0</td>\n      <td>0.0</td>\n      <td>0.0</td>\n      <td>0.0</td>\n      <td>0.0</td>\n      <td>0.0</td>\n      <td>0.0</td>\n      <td>0.0</td>\n      <td>0.0</td>\n      <td>0.0</td>\n      <td>0.0</td>\n      <td>0.0</td>\n      <td>0.0</td>\n      <td>0.0</td>\n      <td>0.0</td>\n      <td>0.0</td>\n      <td>0.0</td>\n      <td>0.0</td>\n      <td>0.0</td>\n      <td>0.0</td>\n      <td>...</td>\n      <td>0.0</td>\n      <td>0.0</td>\n      <td>0.0</td>\n      <td>0.0</td>\n      <td>0.0</td>\n      <td>0.0</td>\n      <td>0.0</td>\n      <td>0.0</td>\n      <td>0.0</td>\n      <td>0.0</td>\n      <td>0.0</td>\n      <td>0.0</td>\n      <td>0.0</td>\n      <td>0.0</td>\n      <td>0.0</td>\n      <td>0.0</td>\n      <td>0.000009</td>\n      <td>0.0</td>\n      <td>0.0</td>\n      <td>0.0</td>\n      <td>0.0</td>\n      <td>0.0</td>\n      <td>0.0</td>\n      <td>0.0</td>\n      <td>0.0</td>\n      <td>0.0</td>\n      <td>0.0</td>\n      <td>0.0</td>\n      <td>0.0</td>\n      <td>0.0</td>\n      <td>0.0</td>\n      <td>0.0</td>\n      <td>0.0</td>\n      <td>0.0</td>\n      <td>0.0</td>\n      <td>0.0</td>\n      <td>0.0</td>\n      <td>0.0</td>\n      <td>0.0</td>\n      <td>0.000009</td>\n    </tr>\n    <tr>\n      <th>2</th>\n      <td>0.009953</td>\n      <td>0.009953</td>\n      <td>0.009456</td>\n      <td>0.0</td>\n      <td>0.0</td>\n      <td>0.001493</td>\n      <td>0.000000</td>\n      <td>0.001515</td>\n      <td>0.000995</td>\n      <td>0.000000</td>\n      <td>0.000000</td>\n      <td>0.000000</td>\n      <td>0.003981</td>\n      <td>0.000995</td>\n      <td>0.001991</td>\n      <td>0.999820</td>\n      <td>0.000498</td>\n      <td>0.001493</td>\n      <td>0.006517</td>\n      <td>0.000275</td>\n      <td>0.0</td>\n      <td>0.0</td>\n      <td>0.0</td>\n      <td>0.0</td>\n      <td>0.0</td>\n      <td>0.0</td>\n      <td>0.0</td>\n      <td>0.0</td>\n      <td>0.0</td>\n      <td>0.0</td>\n      <td>0.0</td>\n      <td>0.0</td>\n      <td>0.0</td>\n      <td>0.0</td>\n      <td>0.0</td>\n      <td>0.0</td>\n      <td>0.0</td>\n      <td>0.0</td>\n      <td>0.0</td>\n      <td>0.0</td>\n      <td>...</td>\n      <td>0.0</td>\n      <td>0.0</td>\n      <td>0.0</td>\n      <td>0.0</td>\n      <td>0.0</td>\n      <td>0.0</td>\n      <td>0.0</td>\n      <td>0.0</td>\n      <td>0.0</td>\n      <td>0.0</td>\n      <td>0.0</td>\n      <td>0.0</td>\n      <td>0.0</td>\n      <td>0.0</td>\n      <td>0.0</td>\n      <td>0.0</td>\n      <td>0.000498</td>\n      <td>0.0</td>\n      <td>0.0</td>\n      <td>0.0</td>\n      <td>0.0</td>\n      <td>0.0</td>\n      <td>0.0</td>\n      <td>0.0</td>\n      <td>0.0</td>\n      <td>0.0</td>\n      <td>0.0</td>\n      <td>0.0</td>\n      <td>0.0</td>\n      <td>0.0</td>\n      <td>0.0</td>\n      <td>0.0</td>\n      <td>0.0</td>\n      <td>0.0</td>\n      <td>0.0</td>\n      <td>0.0</td>\n      <td>0.0</td>\n      <td>0.0</td>\n      <td>0.0</td>\n      <td>0.000498</td>\n    </tr>\n  </tbody>\n</table>\n</div>"
          },
          "metadata": {}
        }
      ]
    },
    {
      "metadata": {
        "_uuid": "1c36fa9122b2959ac988bf21fa1a5bac9a93a090"
      },
      "cell_type": "markdown",
      "source": "## Model Building"
    },
    {
      "metadata": {
        "trusted": true,
        "_uuid": "0be2ac6a4e06d00eb01a6396e1907f59ecf637bc",
        "_kg_hide-output": true,
        "_kg_hide-input": true
      },
      "cell_type": "code",
      "source": "#creating test and train dependent and independent variables\n#Split the data into test and train (30-70: random sampling)\n#will be using the scaled dataset to split \ntrain_ind, test_ind, train_dep, test_dep = train_test_split(kick_projects_ip_scaled_ftrs, kick_projects_ip[response], test_size=0.3, random_state=0)",
      "execution_count": 41,
      "outputs": []
    },
    {
      "metadata": {
        "_uuid": "6d206e0f39bc7994e2fbd4783f12ab6b81e08412"
      },
      "cell_type": "markdown",
      "source": "### XGBoost classifier"
    },
    {
      "metadata": {
        "trusted": true,
        "_uuid": "6ff3429e381226150fd5b646307975c8bdae00e6"
      },
      "cell_type": "code",
      "source": "from xgboost import XGBClassifier",
      "execution_count": 42,
      "outputs": []
    },
    {
      "metadata": {
        "trusted": true,
        "_uuid": "e1b1b4e01c8e6d452ba1391142b26389de662554"
      },
      "cell_type": "code",
      "source": "xgb_model = XGBClassifier(\n learning_rate =0.1,\n n_estimators=1000,\n max_depth=5,\n min_child_weight=1,\n gamma=0,\n subsample=0.8,\n colsample_bytree=0.8,\n objective= 'binary:logistic',\n nthread=4,\n scale_pos_weight=1,\n seed=27)",
      "execution_count": 43,
      "outputs": []
    },
    {
      "metadata": {
        "trusted": true,
        "_uuid": "e04534dfc0c1f91c505148c4cc4234e4015ee2e1"
      },
      "cell_type": "code",
      "source": "xgb_model=xgb_model.fit(train_ind[features], train_dep[response])",
      "execution_count": 44,
      "outputs": [
        {
          "output_type": "stream",
          "text": "/opt/conda/lib/python3.6/site-packages/sklearn/preprocessing/label.py:219: DataConversionWarning: A column-vector y was passed when a 1d array was expected. Please change the shape of y to (n_samples, ), for example using ravel().\n  y = column_or_1d(y, warn=True)\n/opt/conda/lib/python3.6/site-packages/sklearn/preprocessing/label.py:252: DataConversionWarning: A column-vector y was passed when a 1d array was expected. Please change the shape of y to (n_samples, ), for example using ravel().\n  y = column_or_1d(y, warn=True)\n",
          "name": "stderr"
        }
      ]
    },
    {
      "metadata": {
        "_uuid": "724c79be2a5746e2c4752f07d3b2e0a823480f25"
      },
      "cell_type": "markdown",
      "source": "#### Prediction XGB"
    },
    {
      "metadata": {
        "scrolled": true,
        "trusted": true,
        "_uuid": "64ed9455c9f9d0b6d0e6580a2885e38f2a4a4f7f"
      },
      "cell_type": "code",
      "source": "# Predict the on the train_data\ntest_ind[\"Pred_state_XGB\"] = xgb_model.predict(test_ind[features])\n\n# Predict the on the train_data\ntrain_ind[\"Pred_state_XGB\"] = xgb_model.predict(train_ind[features])\n\n# Predict the on the train_data\nkick_projects_ip[\"Pred_state_XGB\"] = xgb_model.predict(kick_projects_ip_scaled_ftrs)",
      "execution_count": 45,
      "outputs": [
        {
          "output_type": "stream",
          "text": "/opt/conda/lib/python3.6/site-packages/ipykernel_launcher.py:2: SettingWithCopyWarning: \nA value is trying to be set on a copy of a slice from a DataFrame.\nTry using .loc[row_indexer,col_indexer] = value instead\n\nSee the caveats in the documentation: http://pandas.pydata.org/pandas-docs/stable/indexing.html#indexing-view-versus-copy\n  \n/opt/conda/lib/python3.6/site-packages/ipykernel_launcher.py:5: SettingWithCopyWarning: \nA value is trying to be set on a copy of a slice from a DataFrame.\nTry using .loc[row_indexer,col_indexer] = value instead\n\nSee the caveats in the documentation: http://pandas.pydata.org/pandas-docs/stable/indexing.html#indexing-view-versus-copy\n  \"\"\"\n",
          "name": "stderr"
        }
      ]
    },
    {
      "metadata": {
        "_uuid": "e29cc17bff6fee97c98be177509bd298a944a9fb"
      },
      "cell_type": "markdown",
      "source": "#### Evaluating XGB classifier"
    },
    {
      "metadata": {
        "scrolled": true,
        "trusted": true,
        "_uuid": "0f2fbe29b192f0ecac37664717e00ed1f30a5a24"
      },
      "cell_type": "code",
      "source": "print (\"Test Accuracy :: \",accuracy_score(test_dep[response], xgb_model.predict(test_ind[features])))\nprint (\"Train Accuracy :: \",accuracy_score(train_dep[response], xgb_model.predict(train_ind[features])))\nprint (\"Complete Accuracy  :: \",accuracy_score(kick_projects_ip[response], xgb_model.predict(kick_projects_ip_scaled_ftrs)))\nprint (\" Confusion matrix of complete data is\", confusion_matrix(kick_projects_ip[response],kick_projects_ip[\"Pred_state_XGB\"]))",
      "execution_count": 46,
      "outputs": [
        {
          "output_type": "stream",
          "text": "Test Accuracy ::  0.6921468915197685\nTrain Accuracy ::  0.7326097256320799\nComplete Accuracy  ::  0.7204708265997732\n Confusion matrix of complete data is [[162064  35652]\n [ 57060  76896]]\n",
          "name": "stdout"
        }
      ]
    },
    {
      "metadata": {
        "_uuid": "b3f142b0941e1d304d35952700008dd593f6d928"
      },
      "cell_type": "markdown",
      "source": "#### Deriving important features for predicting state of kickstarter projects"
    },
    {
      "metadata": {
        "trusted": true,
        "_uuid": "58aaf501abee2ab96efe931fbf943a955d4b6c7f"
      },
      "cell_type": "code",
      "source": "## Feature importances\nftr_imp=zip(features,xgb_model.feature_importances_)",
      "execution_count": 47,
      "outputs": []
    },
    {
      "metadata": {
        "trusted": true,
        "_uuid": "da79d29ee91d66e0c0c44ef0278243677cc008b2"
      },
      "cell_type": "code",
      "source": "for values in ftr_imp:\n    print(values)",
      "execution_count": 48,
      "outputs": [
        {
          "output_type": "stream",
          "text": "('goal', 0.03331005)\n('usd_goal_real', 0.036802586)\n('name_len', 0.06784248)\n('name_exclaim', 0.008469396)\n('name_question', 0.0010477604)\n('name_words', 0.06648913)\n('name_is_upper', 0.005151489)\n('goal_log', 0.02946826)\n('Goal_10', 0.007814546)\n('Goal_1000', 0.018772375)\n('Goal_100', 0.013489915)\n('Goal_500', 0.016022002)\n('duration', 0.08993277)\n('launched_quarter', 0.046668995)\n('launched_month', 0.05631712)\n('launched_year', 0.025451846)\n('goal_cat_perc', 0.023880206)\n('participants', 0.06775517)\n('avg_ppb', 0.0542216)\n('avg_success_rate', 0.064786516)\n('category_3D_Printing', 0.0006548503)\n('category_Academic', 0.000829477)\n('category_Accessories', 0.0013533572)\n('category_Action', 0.0006548503)\n('category_Animals', 0.00034925347)\n('category_Animation', 0.0016152973)\n('category_Anthologies', 0.0012223872)\n('category_Apparel', 0.0019645507)\n('category_Apps', 0.0013097005)\n('category_Architecture', 0.0003055968)\n('category_Art', 0.0021391774)\n('category_Art_Books', 0.0015279839)\n('category_Audio', 0.00048022353)\n('category_Bacon', 8.731337e-05)\n('category_Blues', 0.0005675369)\n('category_Calendars', 0.0005238802)\n('category_Camera_Equipment', 0.0005675369)\n('category_Candles', 0.00048022353)\n('category_Ceramics', 0.0003055968)\n(\"category_Children's_Books\", 0.002051864)\n('category_Childrenswear', 0.00013097005)\n('category_Chiptune', 0.0)\n('category_Civic_Design', 0.00043656683)\n('category_Classical_Music', 0.001658954)\n('category_Comedy', 0.0011787305)\n('category_Comic_Books', 0.0014843273)\n('category_Comics', 0.0015279839)\n('category_Community_Gardens', 0.00021828341)\n('category_Conceptual_Art', 0.0005675369)\n('category_Cookbooks', 0.0006111936)\n('category_Country_and_Folk', 0.0018335807)\n('category_Couture', 0.00013097005)\n('category_Crafts', 0.0010477604)\n('category_Crochet', 0.00039291015)\n('category_DIY', 0.0005675369)\n('category_DIY_Electronics', 0.001091417)\n('category_Dance', 0.0007858203)\n('category_Design', 0.001658954)\n('category_Digital_Art', 0.0010041037)\n('category_Documentary', 0.0035361913)\n('category_Drama', 0.0013970139)\n('category_Drinks', 0.0012223872)\n('category_Electronic_Music', 0.001091417)\n('category_Embroidery', 0.00043656683)\n('category_Events', 0.00048022353)\n('category_Experimental', 0.000829477)\n('category_Fabrication_Tools', 0.0006548503)\n('category_Faith', 0.0007421636)\n('category_Family', 0.0002619401)\n('category_Fantasy', 0.00017462674)\n(\"category_Farmer's_Markets\", 0.0005238802)\n('category_Farms', 0.00069850695)\n('category_Fashion', 0.0018335807)\n('category_Festivals', 0.00043656683)\n('category_Fiction', 0.0014843273)\n('category_Film_and_Video', 0.0027067144)\n('category_Fine_Art', 0.00096044707)\n('category_Flight', 0.0007858203)\n('category_Food', 0.0022264908)\n('category_Food_Trucks', 0.00048022353)\n('category_Footwear', 0.0007421636)\n('category_Gadgets', 0.0011787305)\n('category_Games', 0.0013970139)\n('category_Gaming_Hardware', 0.0005238802)\n('category_Glass', 4.3656684e-05)\n('category_Graphic_Design', 0.001091417)\n('category_Graphic_Novels', 0.0007858203)\n('category_Hardware', 0.0017462673)\n('category_Hip_Hop', 0.001789924)\n('category_Horror', 0.000829477)\n('category_Illustration', 0.0017026106)\n('category_Immersive', 0.0007421636)\n('category_Indie_Rock', 0.0014406706)\n('category_Installations', 0.00048022353)\n('category_Interactive_Design', 0.00043656683)\n('category_Jazz', 0.00091679033)\n('category_Jewelry', 0.0006548503)\n('category_Journalism', 0.0006548503)\n('category_Kids', 0.00043656683)\n('category_Knitting', 0.00034925347)\n('category_Latin', 0.00043656683)\n('category_Letterpress', 0.0)\n('category_Literary_Journals', 0.0005238802)\n('category_Literary_Spaces', 0.0)\n('category_Live_Games', 0.00096044707)\n('category_Makerspaces', 0.00034925347)\n('category_Metal', 0.0011787305)\n('category_Mixed_Media', 0.0005675369)\n('category_Mobile_Games', 0.001091417)\n('category_Movie_Theaters', 0.00034925347)\n('category_Music', 0.004278355)\n('category_Music_Videos', 0.00034925347)\n('category_Musical', 0.00087313366)\n('category_Narrative_Film', 0.0022701477)\n('category_Nature', 0.0005238802)\n('category_Nonfiction', 0.0018772375)\n('category_Painting', 0.0012660439)\n('category_People', 0.00021828341)\n('category_Performance_Art', 0.0014406706)\n('category_Performances', 0.0006548503)\n('category_Periodicals', 0.000829477)\n('category_Pet_Fashion', 0.00013097005)\n('category_Photo', 0.0002619401)\n('category_Photobooks', 0.00091679033)\n('category_Photography', 0.0015279839)\n('category_Places', 0.0005238802)\n('category_Playing_Cards', 0.001658954)\n('category_Plays', 0.0005238802)\n('category_Poetry', 0.0010041037)\n('category_Pop', 0.001091417)\n('category_Pottery', 0.0002619401)\n('category_Print', 0.0006111936)\n('category_Printing', 0.00017462674)\n('category_Product_Design', 0.0031432812)\n('category_Public_Art', 0.0017462673)\n('category_Publishing', 0.0017026106)\n('category_Punk', 0.0006111936)\n('category_Puzzles', 4.3656684e-05)\n('category_Quilts', 4.3656684e-05)\n('category_Radio_and_Podcasts', 0.001091417)\n('category_RandB', 0.0006548503)\n('category_Ready_to_wear', 0.0006548503)\n('category_Residencies', 8.731337e-05)\n('category_Restaurants', 0.0014406706)\n('category_Robots', 0.00043656683)\n('category_Rock', 0.0017026106)\n('category_Romance', 0.0)\n('category_Science_Fiction', 0.00048022353)\n('category_Sculpture', 0.0007858203)\n('category_Shorts', 0.003186938)\n('category_Small_Batch', 0.001091417)\n('category_Software', 0.0010041037)\n('category_Sound', 0.0002619401)\n('category_Space_Exploration', 0.00043656683)\n('category_Spaces', 0.001091417)\n('category_Stationery', 0.0003055968)\n('category_Tabletop_Games', 0.0048022354)\n('category_Taxidermy', 0.0)\n('category_Technology', 0.0017462673)\n('category_Television', 0.0005238802)\n('category_Textiles', 0.00048022353)\n('category_Theater', 0.0012660439)\n('category_Thrillers', 0.0005675369)\n('category_Translations', 0.00013097005)\n('category_Typography', 8.731337e-05)\n('category_Vegan', 0.0006548503)\n('category_Video', 0.00039291015)\n('category_Video_Art', 0.0002619401)\n('category_Video_Games', 0.0045402953)\n('category_Wearables', 0.0006548503)\n('category_Weaving', 4.3656684e-05)\n('category_Web', 0.0019208941)\n('category_Webcomics', 0.001091417)\n('category_Webseries', 0.001789924)\n('category_Woodworking', 0.00069850695)\n('category_Workshops', 0.0005675369)\n('category_World_Music', 0.0007858203)\n('category_Young_Adult', 0.0005675369)\n('category_Zines', 0.00069850695)\n('main_category_Art', 0.0024011177)\n('main_category_Comics', 0.0026630578)\n('main_category_Crafts', 0.0019208941)\n('main_category_Dance', 0.0016152973)\n('main_category_Design', 0.0036671613)\n('main_category_Fashion', 0.0030559679)\n('main_category_Film_and_Video', 0.0060246224)\n('main_category_Food', 0.0030559679)\n('main_category_Games', 0.003448878)\n('main_category_Journalism', 0.0011350738)\n('main_category_Music', 0.0050641755)\n('main_category_Photography', 0.002051864)\n('main_category_Publishing', 0.0038417883)\n('main_category_Technology', 0.004714922)\n('main_category_Theater', 0.0030123112)\n('currency_AUD', 0.002051864)\n('currency_CAD', 0.004409325)\n('currency_CHF', 0.0006548503)\n('currency_DKK', 0.0005675369)\n('currency_EUR', 0.003885445)\n('currency_GBP', 0.008644023)\n('currency_HKD', 0.0003055968)\n('currency_JPY', 0.0)\n('currency_MXN', 0.001091417)\n('currency_NOK', 0.00048022353)\n('currency_NZD', 0.00087313366)\n('currency_SEK', 0.0007421636)\n('currency_SGD', 0.00039291015)\n('currency_USD', 0.02488431)\n('country_AT', 0.00048022353)\n('country_AU', 0.00039291015)\n('country_BE', 0.00013097005)\n('country_CA', 0.0010041037)\n('country_CH', 4.3656684e-05)\n('country_DE', 0.0015279839)\n('country_DK', 4.3656684e-05)\n('country_ES', 0.0011787305)\n('country_FR', 0.001789924)\n('country_GB', 0.0017462673)\n('country_HK', 8.731337e-05)\n('country_IE', 0.0002619401)\n('country_IT', 0.0013097005)\n('country_JP', 0.0)\n('country_LU', 0.00034925347)\n('country_MX', 0.00034925347)\n('country_NL', 0.0007421636)\n('country_NO', 0.00013097005)\n('country_NZ', 4.3656684e-05)\n('country_NZERO', 0.00048022353)\n('country_SE', 0.0002619401)\n('country_SG', 8.731337e-05)\n('country_US', 0.0059809657)\n",
          "name": "stdout"
        }
      ]
    },
    {
      "metadata": {
        "trusted": true,
        "_uuid": "a2ee3c3e7027f4bb820d3b17ecf8f38d28981805"
      },
      "cell_type": "code",
      "source": "feature_imp=pd.DataFrame(list(zip(features,xgb_model.feature_importances_)))\ncolumn_names= ['features','XGB_imp']\nfeature_imp.columns= column_names",
      "execution_count": 49,
      "outputs": []
    },
    {
      "metadata": {
        "trusted": true,
        "_uuid": "9857b6c7b7269f417de35bcccce8526c1c5376c9"
      },
      "cell_type": "code",
      "source": "feature_imp= feature_imp.sort_values('XGB_imp',ascending=False)",
      "execution_count": 50,
      "outputs": []
    },
    {
      "metadata": {
        "trusted": true,
        "_uuid": "57e019046b9a881abf152609c09946a68a1b9b77"
      },
      "cell_type": "code",
      "source": "feature_imp[:15]",
      "execution_count": 51,
      "outputs": [
        {
          "output_type": "execute_result",
          "execution_count": 51,
          "data": {
            "text/plain": "             features   XGB_imp\n12           duration  0.089933\n2            name_len  0.067842\n17       participants  0.067755\n5          name_words  0.066489\n19   avg_success_rate  0.064787\n14     launched_month  0.056317\n18            avg_ppb  0.054222\n13   launched_quarter  0.046669\n1       usd_goal_real  0.036803\n0                goal  0.033310\n7            goal_log  0.029468\n15      launched_year  0.025452\n207      currency_USD  0.024884\n16      goal_cat_perc  0.023880\n9           Goal_1000  0.018772",
            "text/html": "<div>\n<style scoped>\n    .dataframe tbody tr th:only-of-type {\n        vertical-align: middle;\n    }\n\n    .dataframe tbody tr th {\n        vertical-align: top;\n    }\n\n    .dataframe thead th {\n        text-align: right;\n    }\n</style>\n<table border=\"1\" class=\"dataframe\">\n  <thead>\n    <tr style=\"text-align: right;\">\n      <th></th>\n      <th>features</th>\n      <th>XGB_imp</th>\n    </tr>\n  </thead>\n  <tbody>\n    <tr>\n      <th>12</th>\n      <td>duration</td>\n      <td>0.089933</td>\n    </tr>\n    <tr>\n      <th>2</th>\n      <td>name_len</td>\n      <td>0.067842</td>\n    </tr>\n    <tr>\n      <th>17</th>\n      <td>participants</td>\n      <td>0.067755</td>\n    </tr>\n    <tr>\n      <th>5</th>\n      <td>name_words</td>\n      <td>0.066489</td>\n    </tr>\n    <tr>\n      <th>19</th>\n      <td>avg_success_rate</td>\n      <td>0.064787</td>\n    </tr>\n    <tr>\n      <th>14</th>\n      <td>launched_month</td>\n      <td>0.056317</td>\n    </tr>\n    <tr>\n      <th>18</th>\n      <td>avg_ppb</td>\n      <td>0.054222</td>\n    </tr>\n    <tr>\n      <th>13</th>\n      <td>launched_quarter</td>\n      <td>0.046669</td>\n    </tr>\n    <tr>\n      <th>1</th>\n      <td>usd_goal_real</td>\n      <td>0.036803</td>\n    </tr>\n    <tr>\n      <th>0</th>\n      <td>goal</td>\n      <td>0.033310</td>\n    </tr>\n    <tr>\n      <th>7</th>\n      <td>goal_log</td>\n      <td>0.029468</td>\n    </tr>\n    <tr>\n      <th>15</th>\n      <td>launched_year</td>\n      <td>0.025452</td>\n    </tr>\n    <tr>\n      <th>207</th>\n      <td>currency_USD</td>\n      <td>0.024884</td>\n    </tr>\n    <tr>\n      <th>16</th>\n      <td>goal_cat_perc</td>\n      <td>0.023880</td>\n    </tr>\n    <tr>\n      <th>9</th>\n      <td>Goal_1000</td>\n      <td>0.018772</td>\n    </tr>\n  </tbody>\n</table>\n</div>"
          },
          "metadata": {}
        }
      ]
    },
    {
      "metadata": {
        "scrolled": true,
        "trusted": true,
        "_uuid": "b4197f319a2a0518c492301313e923dcbd7b0e4a"
      },
      "cell_type": "code",
      "source": "kick_projects_ip.head()",
      "execution_count": 52,
      "outputs": [
        {
          "output_type": "execute_result",
          "execution_count": 52,
          "data": {
            "text/plain": "      goal  state       ...        country_US  Pred_state_XGB\n0   1000.0      0       ...                 1               0\n1  80000.0      0       ...                 1               0\n2     20.0      1       ...                 1               1\n3     99.0      1       ...                 1               1\n4   1900.0      0       ...                 1               0\n\n[5 rows x 233 columns]",
            "text/html": "<div>\n<style scoped>\n    .dataframe tbody tr th:only-of-type {\n        vertical-align: middle;\n    }\n\n    .dataframe tbody tr th {\n        vertical-align: top;\n    }\n\n    .dataframe thead th {\n        text-align: right;\n    }\n</style>\n<table border=\"1\" class=\"dataframe\">\n  <thead>\n    <tr style=\"text-align: right;\">\n      <th></th>\n      <th>goal</th>\n      <th>state</th>\n      <th>usd_goal_real</th>\n      <th>name_len</th>\n      <th>name_exclaim</th>\n      <th>name_question</th>\n      <th>name_words</th>\n      <th>name_is_upper</th>\n      <th>goal_log</th>\n      <th>Goal_10</th>\n      <th>Goal_1000</th>\n      <th>Goal_100</th>\n      <th>Goal_500</th>\n      <th>duration</th>\n      <th>launched_quarter</th>\n      <th>launched_month</th>\n      <th>launched_year</th>\n      <th>goal_cat_perc</th>\n      <th>participants</th>\n      <th>avg_ppb</th>\n      <th>avg_success_rate</th>\n      <th>category_3D_Printing</th>\n      <th>category_Academic</th>\n      <th>category_Accessories</th>\n      <th>category_Action</th>\n      <th>category_Animals</th>\n      <th>category_Animation</th>\n      <th>category_Anthologies</th>\n      <th>category_Apparel</th>\n      <th>category_Apps</th>\n      <th>category_Architecture</th>\n      <th>category_Art</th>\n      <th>category_Art_Books</th>\n      <th>category_Audio</th>\n      <th>category_Bacon</th>\n      <th>category_Blues</th>\n      <th>category_Calendars</th>\n      <th>category_Camera_Equipment</th>\n      <th>category_Candles</th>\n      <th>category_Ceramics</th>\n      <th>...</th>\n      <th>main_category_Technology</th>\n      <th>main_category_Theater</th>\n      <th>currency_AUD</th>\n      <th>currency_CAD</th>\n      <th>currency_CHF</th>\n      <th>currency_DKK</th>\n      <th>currency_EUR</th>\n      <th>currency_GBP</th>\n      <th>currency_HKD</th>\n      <th>currency_JPY</th>\n      <th>currency_MXN</th>\n      <th>currency_NOK</th>\n      <th>currency_NZD</th>\n      <th>currency_SEK</th>\n      <th>currency_SGD</th>\n      <th>currency_USD</th>\n      <th>country_AT</th>\n      <th>country_AU</th>\n      <th>country_BE</th>\n      <th>country_CA</th>\n      <th>country_CH</th>\n      <th>country_DE</th>\n      <th>country_DK</th>\n      <th>country_ES</th>\n      <th>country_FR</th>\n      <th>country_GB</th>\n      <th>country_HK</th>\n      <th>country_IE</th>\n      <th>country_IT</th>\n      <th>country_JP</th>\n      <th>country_LU</th>\n      <th>country_MX</th>\n      <th>country_NL</th>\n      <th>country_NO</th>\n      <th>country_NZ</th>\n      <th>country_NZERO</th>\n      <th>country_SE</th>\n      <th>country_SG</th>\n      <th>country_US</th>\n      <th>Pred_state_XGB</th>\n    </tr>\n  </thead>\n  <tbody>\n    <tr>\n      <th>0</th>\n      <td>1000.0</td>\n      <td>0</td>\n      <td>1000.0</td>\n      <td>59.0</td>\n      <td>0</td>\n      <td>0</td>\n      <td>11</td>\n      <td>0.0</td>\n      <td>6.908755</td>\n      <td>100.0</td>\n      <td>1.0</td>\n      <td>10.0</td>\n      <td>2.0</td>\n      <td>39</td>\n      <td>2</td>\n      <td>4</td>\n      <td>2009</td>\n      <td>1.0</td>\n      <td>3</td>\n      <td>40.982361</td>\n      <td>0.325542</td>\n      <td>0</td>\n      <td>0</td>\n      <td>0</td>\n      <td>0</td>\n      <td>0</td>\n      <td>0</td>\n      <td>0</td>\n      <td>0</td>\n      <td>0</td>\n      <td>0</td>\n      <td>0</td>\n      <td>0</td>\n      <td>0</td>\n      <td>0</td>\n      <td>0</td>\n      <td>0</td>\n      <td>0</td>\n      <td>0</td>\n      <td>0</td>\n      <td>...</td>\n      <td>0</td>\n      <td>0</td>\n      <td>0</td>\n      <td>0</td>\n      <td>0</td>\n      <td>0</td>\n      <td>0</td>\n      <td>0</td>\n      <td>0</td>\n      <td>0</td>\n      <td>0</td>\n      <td>0</td>\n      <td>0</td>\n      <td>0</td>\n      <td>0</td>\n      <td>1</td>\n      <td>0</td>\n      <td>0</td>\n      <td>0</td>\n      <td>0</td>\n      <td>0</td>\n      <td>0</td>\n      <td>0</td>\n      <td>0</td>\n      <td>0</td>\n      <td>0</td>\n      <td>0</td>\n      <td>0</td>\n      <td>0</td>\n      <td>0</td>\n      <td>0</td>\n      <td>0</td>\n      <td>0</td>\n      <td>0</td>\n      <td>0</td>\n      <td>0</td>\n      <td>0</td>\n      <td>0</td>\n      <td>1</td>\n      <td>0</td>\n    </tr>\n    <tr>\n      <th>1</th>\n      <td>80000.0</td>\n      <td>0</td>\n      <td>80000.0</td>\n      <td>30.0</td>\n      <td>0</td>\n      <td>0</td>\n      <td>4</td>\n      <td>1.0</td>\n      <td>11.289794</td>\n      <td>8000.0</td>\n      <td>80.0</td>\n      <td>800.0</td>\n      <td>160.0</td>\n      <td>87</td>\n      <td>2</td>\n      <td>4</td>\n      <td>2009</td>\n      <td>3.0</td>\n      <td>1</td>\n      <td>65.203511</td>\n      <td>0.274317</td>\n      <td>0</td>\n      <td>0</td>\n      <td>0</td>\n      <td>0</td>\n      <td>0</td>\n      <td>0</td>\n      <td>0</td>\n      <td>0</td>\n      <td>0</td>\n      <td>0</td>\n      <td>0</td>\n      <td>0</td>\n      <td>0</td>\n      <td>0</td>\n      <td>0</td>\n      <td>0</td>\n      <td>0</td>\n      <td>0</td>\n      <td>0</td>\n      <td>...</td>\n      <td>0</td>\n      <td>0</td>\n      <td>0</td>\n      <td>0</td>\n      <td>0</td>\n      <td>0</td>\n      <td>0</td>\n      <td>0</td>\n      <td>0</td>\n      <td>0</td>\n      <td>0</td>\n      <td>0</td>\n      <td>0</td>\n      <td>0</td>\n      <td>0</td>\n      <td>1</td>\n      <td>0</td>\n      <td>0</td>\n      <td>0</td>\n      <td>0</td>\n      <td>0</td>\n      <td>0</td>\n      <td>0</td>\n      <td>0</td>\n      <td>0</td>\n      <td>0</td>\n      <td>0</td>\n      <td>0</td>\n      <td>0</td>\n      <td>0</td>\n      <td>0</td>\n      <td>0</td>\n      <td>0</td>\n      <td>0</td>\n      <td>0</td>\n      <td>0</td>\n      <td>0</td>\n      <td>0</td>\n      <td>1</td>\n      <td>0</td>\n    </tr>\n    <tr>\n      <th>2</th>\n      <td>20.0</td>\n      <td>1</td>\n      <td>20.0</td>\n      <td>19.0</td>\n      <td>0</td>\n      <td>0</td>\n      <td>3</td>\n      <td>0.0</td>\n      <td>3.044522</td>\n      <td>2.0</td>\n      <td>0.0</td>\n      <td>0.0</td>\n      <td>0.0</td>\n      <td>8</td>\n      <td>2</td>\n      <td>4</td>\n      <td>2009</td>\n      <td>1.0</td>\n      <td>3</td>\n      <td>13.095238</td>\n      <td>0.552500</td>\n      <td>0</td>\n      <td>0</td>\n      <td>0</td>\n      <td>0</td>\n      <td>0</td>\n      <td>0</td>\n      <td>0</td>\n      <td>0</td>\n      <td>0</td>\n      <td>0</td>\n      <td>0</td>\n      <td>0</td>\n      <td>0</td>\n      <td>0</td>\n      <td>0</td>\n      <td>0</td>\n      <td>0</td>\n      <td>0</td>\n      <td>0</td>\n      <td>...</td>\n      <td>0</td>\n      <td>0</td>\n      <td>0</td>\n      <td>0</td>\n      <td>0</td>\n      <td>0</td>\n      <td>0</td>\n      <td>0</td>\n      <td>0</td>\n      <td>0</td>\n      <td>0</td>\n      <td>0</td>\n      <td>0</td>\n      <td>0</td>\n      <td>0</td>\n      <td>1</td>\n      <td>0</td>\n      <td>0</td>\n      <td>0</td>\n      <td>0</td>\n      <td>0</td>\n      <td>0</td>\n      <td>0</td>\n      <td>0</td>\n      <td>0</td>\n      <td>0</td>\n      <td>0</td>\n      <td>0</td>\n      <td>0</td>\n      <td>0</td>\n      <td>0</td>\n      <td>0</td>\n      <td>0</td>\n      <td>0</td>\n      <td>0</td>\n      <td>0</td>\n      <td>0</td>\n      <td>0</td>\n      <td>1</td>\n      <td>1</td>\n    </tr>\n    <tr>\n      <th>3</th>\n      <td>99.0</td>\n      <td>1</td>\n      <td>99.0</td>\n      <td>28.0</td>\n      <td>0</td>\n      <td>0</td>\n      <td>4</td>\n      <td>0.0</td>\n      <td>4.605170</td>\n      <td>9.0</td>\n      <td>0.0</td>\n      <td>0.0</td>\n      <td>0.0</td>\n      <td>79</td>\n      <td>2</td>\n      <td>4</td>\n      <td>2009</td>\n      <td>1.0</td>\n      <td>7</td>\n      <td>36.765524</td>\n      <td>0.572958</td>\n      <td>0</td>\n      <td>0</td>\n      <td>0</td>\n      <td>0</td>\n      <td>0</td>\n      <td>0</td>\n      <td>0</td>\n      <td>0</td>\n      <td>0</td>\n      <td>0</td>\n      <td>0</td>\n      <td>0</td>\n      <td>0</td>\n      <td>0</td>\n      <td>0</td>\n      <td>0</td>\n      <td>0</td>\n      <td>0</td>\n      <td>0</td>\n      <td>...</td>\n      <td>1</td>\n      <td>0</td>\n      <td>0</td>\n      <td>0</td>\n      <td>0</td>\n      <td>0</td>\n      <td>0</td>\n      <td>0</td>\n      <td>0</td>\n      <td>0</td>\n      <td>0</td>\n      <td>0</td>\n      <td>0</td>\n      <td>0</td>\n      <td>0</td>\n      <td>1</td>\n      <td>0</td>\n      <td>0</td>\n      <td>0</td>\n      <td>0</td>\n      <td>0</td>\n      <td>0</td>\n      <td>0</td>\n      <td>0</td>\n      <td>0</td>\n      <td>0</td>\n      <td>0</td>\n      <td>0</td>\n      <td>0</td>\n      <td>0</td>\n      <td>0</td>\n      <td>0</td>\n      <td>0</td>\n      <td>0</td>\n      <td>0</td>\n      <td>0</td>\n      <td>0</td>\n      <td>0</td>\n      <td>1</td>\n      <td>1</td>\n    </tr>\n    <tr>\n      <th>4</th>\n      <td>1900.0</td>\n      <td>0</td>\n      <td>1900.0</td>\n      <td>10.0</td>\n      <td>0</td>\n      <td>0</td>\n      <td>1</td>\n      <td>0.0</td>\n      <td>7.550135</td>\n      <td>190.0</td>\n      <td>1.0</td>\n      <td>19.0</td>\n      <td>3.0</td>\n      <td>28</td>\n      <td>2</td>\n      <td>4</td>\n      <td>2009</td>\n      <td>1.0</td>\n      <td>3</td>\n      <td>40.982361</td>\n      <td>0.325542</td>\n      <td>0</td>\n      <td>0</td>\n      <td>0</td>\n      <td>0</td>\n      <td>0</td>\n      <td>0</td>\n      <td>0</td>\n      <td>0</td>\n      <td>0</td>\n      <td>0</td>\n      <td>0</td>\n      <td>0</td>\n      <td>0</td>\n      <td>0</td>\n      <td>0</td>\n      <td>0</td>\n      <td>0</td>\n      <td>0</td>\n      <td>0</td>\n      <td>...</td>\n      <td>0</td>\n      <td>0</td>\n      <td>0</td>\n      <td>0</td>\n      <td>0</td>\n      <td>0</td>\n      <td>0</td>\n      <td>0</td>\n      <td>0</td>\n      <td>0</td>\n      <td>0</td>\n      <td>0</td>\n      <td>0</td>\n      <td>0</td>\n      <td>0</td>\n      <td>1</td>\n      <td>0</td>\n      <td>0</td>\n      <td>0</td>\n      <td>0</td>\n      <td>0</td>\n      <td>0</td>\n      <td>0</td>\n      <td>0</td>\n      <td>0</td>\n      <td>0</td>\n      <td>0</td>\n      <td>0</td>\n      <td>0</td>\n      <td>0</td>\n      <td>0</td>\n      <td>0</td>\n      <td>0</td>\n      <td>0</td>\n      <td>0</td>\n      <td>0</td>\n      <td>0</td>\n      <td>0</td>\n      <td>1</td>\n      <td>0</td>\n    </tr>\n  </tbody>\n</table>\n</div>"
          },
          "metadata": {}
        }
      ]
    },
    {
      "metadata": {
        "_uuid": "9f712fc0404acc318c0689f7afecd0eb4f31fa08"
      },
      "cell_type": "markdown",
      "source": "### Random Forest Classifier"
    },
    {
      "metadata": {
        "trusted": true,
        "_uuid": "1ecb80b57faf8468b70cb35fece0714e39ceb5ad"
      },
      "cell_type": "code",
      "source": "from sklearn.ensemble import RandomForestClassifier\nimport math",
      "execution_count": 53,
      "outputs": []
    },
    {
      "metadata": {
        "trusted": true,
        "_uuid": "670aafbfa166cb69bfb46f9642a9a90b621e296d"
      },
      "cell_type": "code",
      "source": "features_count = train_ind.shape[1]\n\nparameters_rf = {'n_estimators':[50], 'max_depth':[20], 'max_features': \n                     [math.floor(np.sqrt(features_count)), math.floor(features_count/3)]}\n\ndef random_forest_classifier(features, target):\n    \"\"\"\n    To train the random forest classifier with features and target data\n    :param features:\n    :param target:\n    :return: trained random forest classifier\n    \"\"\"\n    clf = RandomForestClassifier(n_estimators=50,criterion='gini' ,max_depth=20, max_features=2)\n    clf.fit(features, target)\n    return clf",
      "execution_count": 54,
      "outputs": []
    },
    {
      "metadata": {
        "trusted": true,
        "_uuid": "bce2d1229fb9653acc4782c94cf88725468df631"
      },
      "cell_type": "code",
      "source": "trained_model_RF= random_forest_classifier(train_ind[features], train_dep[response])",
      "execution_count": 55,
      "outputs": [
        {
          "output_type": "stream",
          "text": "/opt/conda/lib/python3.6/site-packages/ipykernel_launcher.py:14: DataConversionWarning: A column-vector y was passed when a 1d array was expected. Please change the shape of y to (n_samples,), for example using ravel().\n  \n",
          "name": "stderr"
        }
      ]
    },
    {
      "metadata": {
        "_uuid": "1532a88aaa09ff4c747fb18770ad8ead88c8451d"
      },
      "cell_type": "markdown",
      "source": "#### Predictions using RF"
    },
    {
      "metadata": {
        "scrolled": true,
        "trusted": true,
        "_uuid": "6871768b3454e816111f608efdc49a45e051795a"
      },
      "cell_type": "code",
      "source": "# Predict the on the train_data\ntest_ind[\"Pred_state_RF\"] = trained_model_RF.predict(test_ind[features])\n\n# Predict the on the train_data\ntrain_ind[\"Pred_state_RF\"] = trained_model_RF.predict(train_ind[features])\n\n# Predict the on the train_data\nkick_projects_ip[\"Pred_state_RF\"] = trained_model_RF.predict(kick_projects_ip_scaled_ftrs)",
      "execution_count": 56,
      "outputs": [
        {
          "output_type": "stream",
          "text": "/opt/conda/lib/python3.6/site-packages/ipykernel_launcher.py:2: SettingWithCopyWarning: \nA value is trying to be set on a copy of a slice from a DataFrame.\nTry using .loc[row_indexer,col_indexer] = value instead\n\nSee the caveats in the documentation: http://pandas.pydata.org/pandas-docs/stable/indexing.html#indexing-view-versus-copy\n  \n/opt/conda/lib/python3.6/site-packages/ipykernel_launcher.py:5: SettingWithCopyWarning: \nA value is trying to be set on a copy of a slice from a DataFrame.\nTry using .loc[row_indexer,col_indexer] = value instead\n\nSee the caveats in the documentation: http://pandas.pydata.org/pandas-docs/stable/indexing.html#indexing-view-versus-copy\n  \"\"\"\n",
          "name": "stderr"
        }
      ]
    },
    {
      "metadata": {
        "_uuid": "078331da45fac7083db6cfbb604ea5478247f167"
      },
      "cell_type": "markdown",
      "source": "#### Accuracies of RF"
    },
    {
      "metadata": {
        "trusted": true,
        "_uuid": "77ef1e566a88477e8fc2e180efce8c19b47fc692"
      },
      "cell_type": "code",
      "source": "# Train and Test Accuracy\nprint (\"Train Accuracy :: \", accuracy_score(train_dep[response], trained_model_RF.predict(train_ind[features])))\nprint (\"Test Accuracy  :: \", accuracy_score(test_dep[response], trained_model_RF.predict(test_ind[features])))\nprint (\"Complete Accuracy  :: \", accuracy_score(kick_projects_ip[response], trained_model_RF.predict(kick_projects_ip_scaled_ftrs)))\nprint (\" Confusion matrix of complete data is\", confusion_matrix(kick_projects_ip[response],kick_projects_ip[\"Pred_state_RF\"]))",
      "execution_count": 57,
      "outputs": [
        {
          "output_type": "stream",
          "text": "Train Accuracy ::  0.6962269027006073\nTest Accuracy  ::  0.660599786938956\nComplete Accuracy  ::  0.685538725005427\n Confusion matrix of complete data is [[175328  22388]\n [ 81910  52046]]\n",
          "name": "stdout"
        }
      ]
    },
    {
      "metadata": {
        "_uuid": "56cbaf931102192672ce8d2764ba43a5a6afb252"
      },
      "cell_type": "markdown",
      "source": "#### Key drivers from Random Forest"
    },
    {
      "metadata": {
        "trusted": true,
        "_uuid": "8a886d272776b1fb1bd84a18d3b022aeaf1f0533"
      },
      "cell_type": "code",
      "source": "## Feature importances\nftr_imp_rf=zip(features,trained_model_RF.feature_importances_)\nfor values in ftr_imp_rf:\n    print(values)",
      "execution_count": 58,
      "outputs": [
        {
          "output_type": "stream",
          "text": "('goal', 0.03412417650993668)\n('usd_goal_real', 0.044378602045221066)\n('name_len', 0.04192523527480494)\n('name_exclaim', 0.009747174218191495)\n('name_question', 0.0007034058160194616)\n('name_words', 0.07584053744201033)\n('name_is_upper', 0.0031984765560943013)\n('goal_log', 0.050464013597184464)\n('Goal_10', 0.02756743238953033)\n('Goal_1000', 0.025786540778261625)\n('Goal_100', 0.04638058139959456)\n('Goal_500', 0.01662458100327375)\n('duration', 0.038955554097796836)\n('launched_quarter', 0.04904811684281092)\n('launched_month', 0.028613738383699395)\n('launched_year', 0.03694144537784187)\n('goal_cat_perc', 0.034876342537808865)\n('participants', 0.029709925574358607)\n('avg_ppb', 0.04438796584833301)\n('avg_success_rate', 0.061733661450459595)\n('category_3D_Printing', 0.00034724441887888397)\n('category_Academic', 0.0003833432787463374)\n('category_Accessories', 0.0007894250504031265)\n('category_Action', 0.0005555100802733251)\n('category_Animals', 6.53549567190293e-05)\n('category_Animation', 0.0002596136373021323)\n('category_Anthologies', 0.001186416838283408)\n('category_Apparel', 0.006030483782384406)\n('category_Apps', 0.005993196941507248)\n('category_Architecture', 0.00017168237350664089)\n('category_Art', 0.0010817220842458631)\n('category_Art_Books', 0.001550289609636627)\n('category_Audio', 0.000127926408174434)\n('category_Bacon', 0.00016455336148085185)\n('category_Blues', 9.180621578046792e-05)\n('category_Calendars', 0.00010107524881108064)\n('category_Camera_Equipment', 0.00016692949296438428)\n('category_Candles', 0.000411693447666939)\n('category_Ceramics', 6.747809333134933e-05)\n(\"category_Children's_Books\", 0.0006742449092726165)\n('category_Childrenswear', 0.00017351399495719473)\n('category_Chiptune', 4.530826508878578e-05)\n('category_Civic_Design', 9.426599807492801e-05)\n('category_Classical_Music', 0.0019860547884870965)\n('category_Comedy', 0.0004888737255290416)\n('category_Comic_Books', 0.0028755343290155573)\n('category_Comics', 0.0027719707164924694)\n('category_Community_Gardens', 9.905520187524939e-05)\n('category_Conceptual_Art', 0.0001321652974706481)\n('category_Cookbooks', 0.00020136652473778106)\n('category_Country_and_Folk', 0.0033874143529063674)\n('category_Couture', 9.944015601516502e-05)\n('category_Crafts', 0.002069894856630188)\n('category_Crochet', 0.00018235565024354294)\n('category_DIY', 0.0007082972613400182)\n('category_DIY_Electronics', 0.0009513468203435815)\n('category_Dance', 0.0019321722934780147)\n('category_Design', 0.0004038523672358341)\n('category_Digital_Art', 0.0004721689575634248)\n('category_Documentary', 0.0013023704539085457)\n('category_Drama', 0.0005337841771788688)\n('category_Drinks', 0.0005021565710626095)\n('category_Electronic_Music', 0.0002751764228239536)\n('category_Embroidery', 0.00015749025791303437)\n('category_Events', 0.00030765395027732484)\n('category_Experimental', 0.00020146681898478735)\n('category_Fabrication_Tools', 9.585988043856348e-05)\n('category_Faith', 0.00022362743378929851)\n('category_Family', 0.00015623188881739366)\n('category_Fantasy', 6.919529617291028e-05)\n(\"category_Farmer's_Markets\", 0.0003962974923910452)\n('category_Farms', 0.00041698656370460166)\n('category_Fashion', 0.0016040040685707947)\n('category_Festivals', 0.0004655839610382024)\n('category_Fiction', 0.003900119412881175)\n('category_Film_and_Video', 0.0005806116590281781)\n('category_Fine_Art', 0.0002745225166773525)\n('category_Flight', 0.0001352974806978418)\n('category_Food', 0.0016272171441941569)\n('category_Food_Trucks', 0.0012886316114871382)\n('category_Footwear', 0.00018178199511697014)\n('category_Gadgets', 0.0005716442069435325)\n('category_Games', 0.0010633216522231608)\n('category_Gaming_Hardware', 7.498706736584182e-05)\n('category_Glass', 4.600338550603059e-05)\n('category_Graphic_Design', 0.0003137468717265007)\n('category_Graphic_Novels', 0.0014784841007366933)\n('category_Hardware', 0.0010557982986011164)\n('category_Hip_Hop', 0.0036164945125966687)\n('category_Horror', 0.00014371844509137663)\n('category_Illustration', 0.0012015307759346806)\n('category_Immersive', 0.00022572591256692136)\n('category_Indie_Rock', 0.003439577733290189)\n('category_Installations', 0.00031877813611001294)\n('category_Interactive_Design', 0.0001775900368692273)\n('category_Jazz', 0.0009076310575286863)\n('category_Jewelry', 0.000517664063729719)\n('category_Journalism', 0.00023233717840057184)\n('category_Kids', 6.907595294065932e-05)\n('category_Knitting', 0.00018882685644144102)\n('category_Latin', 6.000234354801264e-05)\n('category_Letterpress', 0.00014077827317680232)\n('category_Literary_Journals', 0.00025119330683446715)\n('category_Literary_Spaces', 1.7607526663762155e-05)\n('category_Live_Games', 0.0003839884779533806)\n('category_Makerspaces', 0.0002022990954677549)\n('category_Metal', 0.00010856337665663178)\n('category_Mixed_Media', 0.0003791497840291593)\n('category_Mobile_Games', 0.001641788050016938)\n('category_Movie_Theaters', 6.106954212392127e-05)\n('category_Music', 0.0032655717042646333)\n('category_Music_Videos', 4.4989333063903706e-05)\n('category_Musical', 0.00037623205330212037)\n('category_Narrative_Film', 0.0011130275132188601)\n('category_Nature', 0.00038908752876434615)\n('category_Nonfiction', 0.0008937995419394854)\n('category_Painting', 0.0005953577240598421)\n('category_People', 0.00038130698981192506)\n('category_Performance_Art', 0.0004395180864906639)\n('category_Performances', 0.0009323408194470921)\n('category_Periodicals', 0.0003382445751665399)\n('category_Pet_Fashion', 4.5317428905497374e-05)\n('category_Photo', 4.892454851890736e-05)\n('category_Photobooks', 0.000639192519417526)\n('category_Photography', 0.000652342824280224)\n('category_Places', 0.0006495381893736606)\n('category_Playing_Cards', 0.0006543185008074144)\n('category_Plays', 0.0004328028647160601)\n('category_Poetry', 0.00018313501039185078)\n('category_Pop', 0.0009390927444979765)\n('category_Pottery', 0.00012303435369031483)\n('category_Print', 0.0002822632106962621)\n('category_Printing', 7.765190635583636e-05)\n('category_Product_Design', 0.0030515485464161223)\n('category_Public_Art', 0.0030159679427429753)\n('category_Publishing', 0.0009250938943343858)\n('category_Punk', 8.431386536439779e-05)\n('category_Puzzles', 2.3696967172803635e-05)\n('category_Quilts', 4.7554429914032426e-05)\n('category_Radio_and_Podcasts', 0.00024344411543364904)\n('category_RandB', 0.00021663239882493976)\n('category_Ready_to_wear', 0.0004392202931997376)\n('category_Residencies', 5.119024083058648e-05)\n('category_Restaurants', 0.000971779576182748)\n('category_Robots', 0.0002331888878904016)\n('category_Rock', 0.001779081019470029)\n('category_Romance', 5.2543306330702254e-05)\n('category_Science_Fiction', 0.0002866726189119389)\n('category_Sculpture', 0.00019899495429863748)\n('category_Shorts', 0.00408012032673726)\n('category_Small_Batch', 0.0002470884730084529)\n('category_Software', 0.0019994669576454886)\n('category_Sound', 0.00029862254140205336)\n('category_Space_Exploration', 0.00020400615459809887)\n('category_Spaces', 0.00022372953210564526)\n('category_Stationery', 0.00013052973322857613)\n('category_Tabletop_Games', 0.014938936245741741)\n('category_Taxidermy', 1.575200385641849e-05)\n('category_Technology', 0.0023014893508858892)\n('category_Television', 0.0004831152443193866)\n('category_Textiles', 7.545802012779e-05)\n('category_Theater', 0.005626673888166178)\n('category_Thrillers', 0.00019274224676847065)\n('category_Translations', 4.316184163175683e-05)\n('category_Typography', 0.00010140456067085236)\n('category_Vegan', 9.414310248290437e-05)\n('category_Video', 0.00037419558615492204)\n('category_Video_Art', 4.053238739128081e-05)\n('category_Video_Games', 0.004608896015815322)\n('category_Wearables', 0.0002212412744551486)\n('category_Weaving', 3.739544698071591e-05)\n('category_Web', 0.006250870190600683)\n('category_Webcomics', 0.0003373845181123067)\n('category_Webseries', 0.0010619681303887995)\n('category_Woodworking', 0.00047292546810376464)\n('category_Workshops', 8.608331210725791e-05)\n('category_World_Music', 0.00046501827329908067)\n('category_Young_Adult', 0.0008183088947509407)\n('category_Zines', 0.0002506445154057167)\n('main_category_Art', 0.0037166331984240363)\n('main_category_Comics', 0.005858142783315748)\n('main_category_Crafts', 0.007157498624771841)\n('main_category_Dance', 0.003290722412136364)\n('main_category_Design', 0.002805763617336879)\n('main_category_Fashion', 0.005107249356830051)\n('main_category_Film_and_Video', 0.003971294491627422)\n('main_category_Food', 0.00469573975605001)\n('main_category_Games', 0.0037061821750852715)\n('main_category_Journalism', 0.001352322145612433)\n('main_category_Music', 0.014583907564588843)\n('main_category_Photography', 0.0012700658258172762)\n('main_category_Publishing', 0.005171972940160946)\n('main_category_Technology', 0.011952564606445015)\n('main_category_Theater', 0.00463714819161089)\n('currency_AUD', 0.001989591327261394)\n('currency_CAD', 0.0030347565650220647)\n('currency_CHF', 0.00033151836781723505)\n('currency_DKK', 0.0003751824218462395)\n('currency_EUR', 0.005111953947780596)\n('currency_GBP', 0.004309474076117352)\n('currency_HKD', 0.0006090213143930253)\n('currency_JPY', 2.5018449285406252e-05)\n('currency_MXN', 0.00039295322491080616)\n('currency_NOK', 0.00032971429661903423)\n('currency_NZD', 0.000565445241841592)\n('currency_SEK', 0.0005207315869088574)\n('currency_SGD', 0.000259321906257161)\n('currency_USD', 0.01739007669472662)\n('country_AT', 0.00036119679736823404)\n('country_AU', 0.0021204364000250203)\n('country_BE', 0.0003031745752649341)\n('country_CA', 0.0032438442172814884)\n('country_CH', 0.00039036391359928234)\n('country_DE', 0.0014548219119587663)\n('country_DK', 0.0004875811432409251)\n('country_ES', 0.001132853461809353)\n('country_FR', 0.0009201848875608796)\n('country_GB', 0.005449582764092491)\n('country_HK', 0.00022528638896125854)\n('country_IE', 0.0002834134220435164)\n('country_IT', 0.0023169275488643727)\n('country_JP', 9.26950147182333e-06)\n('country_LU', 6.775358954007733e-05)\n('country_MX', 0.0004127033949669372)\n('country_NL', 0.0010403198524985167)\n('country_NO', 0.000261910799841864)\n('country_NZ', 0.0005767753234211378)\n('country_NZERO', 0.00011167549419800772)\n('country_SE', 0.0004039831294725297)\n('country_SG', 0.00031154184686313493)\n('country_US', 0.018504523251298387)\n",
          "name": "stdout"
        }
      ]
    },
    {
      "metadata": {
        "trusted": true,
        "_uuid": "515e86e8f01fd917be06b396441ac519ea3654f1"
      },
      "cell_type": "code",
      "source": "feature_imp_RF=pd.DataFrame(list(zip(features,trained_model_RF.feature_importances_)))\ncolumn_names_RF= ['features','RF_imp']\nfeature_imp_RF.columns= column_names_RF",
      "execution_count": 59,
      "outputs": []
    },
    {
      "metadata": {
        "trusted": true,
        "_uuid": "86554393c6a1b853e8005d4047750cf2fb57a3fc"
      },
      "cell_type": "code",
      "source": "feature_imp_RF= feature_imp_RF.sort_values('RF_imp',ascending=False)\nfeature_imp_RF[:15]",
      "execution_count": 60,
      "outputs": [
        {
          "output_type": "execute_result",
          "execution_count": 60,
          "data": {
            "text/plain": "            features    RF_imp\n5         name_words  0.075841\n19  avg_success_rate  0.061734\n7           goal_log  0.050464\n13  launched_quarter  0.049048\n10          Goal_100  0.046381\n18           avg_ppb  0.044388\n1      usd_goal_real  0.044379\n2           name_len  0.041925\n12          duration  0.038956\n15     launched_year  0.036941\n16     goal_cat_perc  0.034876\n0               goal  0.034124\n17      participants  0.029710\n14    launched_month  0.028614\n8            Goal_10  0.027567",
            "text/html": "<div>\n<style scoped>\n    .dataframe tbody tr th:only-of-type {\n        vertical-align: middle;\n    }\n\n    .dataframe tbody tr th {\n        vertical-align: top;\n    }\n\n    .dataframe thead th {\n        text-align: right;\n    }\n</style>\n<table border=\"1\" class=\"dataframe\">\n  <thead>\n    <tr style=\"text-align: right;\">\n      <th></th>\n      <th>features</th>\n      <th>RF_imp</th>\n    </tr>\n  </thead>\n  <tbody>\n    <tr>\n      <th>5</th>\n      <td>name_words</td>\n      <td>0.075841</td>\n    </tr>\n    <tr>\n      <th>19</th>\n      <td>avg_success_rate</td>\n      <td>0.061734</td>\n    </tr>\n    <tr>\n      <th>7</th>\n      <td>goal_log</td>\n      <td>0.050464</td>\n    </tr>\n    <tr>\n      <th>13</th>\n      <td>launched_quarter</td>\n      <td>0.049048</td>\n    </tr>\n    <tr>\n      <th>10</th>\n      <td>Goal_100</td>\n      <td>0.046381</td>\n    </tr>\n    <tr>\n      <th>18</th>\n      <td>avg_ppb</td>\n      <td>0.044388</td>\n    </tr>\n    <tr>\n      <th>1</th>\n      <td>usd_goal_real</td>\n      <td>0.044379</td>\n    </tr>\n    <tr>\n      <th>2</th>\n      <td>name_len</td>\n      <td>0.041925</td>\n    </tr>\n    <tr>\n      <th>12</th>\n      <td>duration</td>\n      <td>0.038956</td>\n    </tr>\n    <tr>\n      <th>15</th>\n      <td>launched_year</td>\n      <td>0.036941</td>\n    </tr>\n    <tr>\n      <th>16</th>\n      <td>goal_cat_perc</td>\n      <td>0.034876</td>\n    </tr>\n    <tr>\n      <th>0</th>\n      <td>goal</td>\n      <td>0.034124</td>\n    </tr>\n    <tr>\n      <th>17</th>\n      <td>participants</td>\n      <td>0.029710</td>\n    </tr>\n    <tr>\n      <th>14</th>\n      <td>launched_month</td>\n      <td>0.028614</td>\n    </tr>\n    <tr>\n      <th>8</th>\n      <td>Goal_10</td>\n      <td>0.027567</td>\n    </tr>\n  </tbody>\n</table>\n</div>"
          },
          "metadata": {}
        }
      ]
    },
    {
      "metadata": {
        "_uuid": "e27df719f8470b67497ba507e2213750b29fcd81"
      },
      "cell_type": "markdown",
      "source": "## Ensemble Classifiers"
    },
    {
      "metadata": {
        "_uuid": "f9ac8e453ca0bef423a688894a09d4b5d9546cf9"
      },
      "cell_type": "markdown",
      "source": "### Simple Ensemble: Average Probabailities"
    },
    {
      "metadata": {
        "trusted": true,
        "_uuid": "3885bc6df5352e4ca5504ced7e96dfcb7c099533"
      },
      "cell_type": "code",
      "source": "from sklearn import tree\nfrom sklearn import neighbors\nimport math",
      "execution_count": 61,
      "outputs": []
    },
    {
      "metadata": {
        "trusted": true,
        "_uuid": "76897ccf408ff78d27c7913d93f1ad6636934c8c"
      },
      "cell_type": "code",
      "source": "model_dtc_g = tree.DecisionTreeClassifier()\nmodel_dtc_e = tree.DecisionTreeClassifier(criterion=\"entropy\")\nmodel_knn = neighbors.KNeighborsClassifier()\nmodel_lr= LogisticRegression(penalty='l1',solver='saga')",
      "execution_count": 62,
      "outputs": []
    },
    {
      "metadata": {
        "trusted": true,
        "_uuid": "336af42d4d78dee53f7203afdc8c9f3521da22c9"
      },
      "cell_type": "code",
      "source": "model_dtc_g.fit(train_ind[features], train_dep[response])\nmodel_dtc_e.fit(train_ind[features], train_dep[response])\nmodel_knn.fit(train_ind[features], train_dep[response])\nmodel_lr.fit(train_ind[features], train_dep[response])\n\npred_dtc_g=model_dtc_g.predict_proba(test_ind[features])\npred_dtc_e=model_dtc_e.predict_proba(test_ind[features])\npred_knn=model_knn.predict_proba(test_ind[features])\npred_lr=model_lr.predict_proba(test_ind[features])\n\nfinalpred=(pred_dtc_g+pred_dtc_e+pred_knn+pred_lr)/4",
      "execution_count": 63,
      "outputs": [
        {
          "output_type": "stream",
          "text": "/opt/conda/lib/python3.6/site-packages/ipykernel_launcher.py:3: DataConversionWarning: A column-vector y was passed when a 1d array was expected. Please change the shape of y to (n_samples, ), for example using ravel().\n  This is separate from the ipykernel package so we can avoid doing imports until\n/opt/conda/lib/python3.6/site-packages/sklearn/utils/validation.py:752: DataConversionWarning: A column-vector y was passed when a 1d array was expected. Please change the shape of y to (n_samples, ), for example using ravel().\n  y = column_or_1d(y, warn=True)\n",
          "name": "stderr"
        }
      ]
    },
    {
      "metadata": {
        "trusted": true,
        "_uuid": "2768a0ee452df7d4dda837dcfc0e6b94a1427722"
      },
      "cell_type": "code",
      "source": "pred_proba_avg=pd.DataFrame(finalpred)\ncol_names=['prob_0','prob_1']\npred_proba_avg.columns=col_names",
      "execution_count": 64,
      "outputs": []
    },
    {
      "metadata": {
        "trusted": true,
        "_uuid": "a18ab0c25c05180c4a8dff22d093b8634d0bdead"
      },
      "cell_type": "code",
      "source": "def final_state(c):\n    if c['prob_0'] >c['prob_1']:\n        return 0\n    else:\n        return 1\n    \npred_proba_avg['final_state_avg'] = pred_proba_avg.apply(final_state, axis=1)",
      "execution_count": 65,
      "outputs": []
    },
    {
      "metadata": {
        "trusted": true,
        "_uuid": "7bcff7e65e8ea0190cd1b43a96eaee1d1f68c5df"
      },
      "cell_type": "code",
      "source": "test_ind = test_ind.reset_index(drop=True)\npred_proba_avg = pred_proba_avg.reset_index(drop=True)\ntest_ind=pd.concat([test_ind,pred_proba_avg],axis=1)",
      "execution_count": 66,
      "outputs": []
    },
    {
      "metadata": {
        "trusted": true,
        "_uuid": "31372e04eec3a1e1165128e81b67185a24e14adf"
      },
      "cell_type": "code",
      "source": "print (\"Test Accuracy  :: \", accuracy_score(test_dep[response],test_ind['final_state_avg']))",
      "execution_count": 67,
      "outputs": [
        {
          "output_type": "stream",
          "text": "Test Accuracy  ::  0.6362384675684911\n",
          "name": "stdout"
        }
      ]
    },
    {
      "metadata": {
        "_uuid": "be2fb41eb876eb3f65c3b7236d4285fcf4b06542"
      },
      "cell_type": "markdown",
      "source": "### Boosting"
    },
    {
      "metadata": {
        "trusted": true,
        "_uuid": "ad8263a89418f5cb073710f8c49357afdf5185b0"
      },
      "cell_type": "code",
      "source": "from sklearn.ensemble import AdaBoostClassifier",
      "execution_count": 68,
      "outputs": []
    },
    {
      "metadata": {
        "trusted": true,
        "_uuid": "b9cf55a96ff077d4825448cc5822ac66c174fcc1"
      },
      "cell_type": "code",
      "source": "model_ada = AdaBoostClassifier(random_state=1)\nmodel_ada.fit(train_ind[features], train_dep[response])\nmodel_ada.score(test_ind[features],test_dep[response])",
      "execution_count": 69,
      "outputs": [
        {
          "output_type": "stream",
          "text": "/opt/conda/lib/python3.6/site-packages/sklearn/utils/validation.py:752: DataConversionWarning: A column-vector y was passed when a 1d array was expected. Please change the shape of y to (n_samples, ), for example using ravel().\n  y = column_or_1d(y, warn=True)\n",
          "name": "stderr"
        },
        {
          "output_type": "execute_result",
          "execution_count": 69,
          "data": {
            "text/plain": "0.6741975035677675"
          },
          "metadata": {}
        }
      ]
    }
  ],
  "metadata": {
    "kernelspec": {
      "display_name": "Python 3",
      "language": "python",
      "name": "python3"
    },
    "language_info": {
      "name": "python",
      "version": "3.6.6",
      "mimetype": "text/x-python",
      "codemirror_mode": {
        "name": "ipython",
        "version": 3
      },
      "pygments_lexer": "ipython3",
      "nbconvert_exporter": "python",
      "file_extension": ".py"
    }
  },
  "nbformat": 4,
  "nbformat_minor": 1
}